{
 "cells": [
  {
   "cell_type": "code",
   "execution_count": 477,
   "id": "45ce6edd",
   "metadata": {},
   "outputs": [],
   "source": [
    "import numpy as np\n",
    "from sklearn import datasets\n",
    "from sklearn.inspection import DecisionBoundaryDisplay"
   ]
  },
  {
   "cell_type": "code",
   "execution_count": 478,
   "id": "dce5e39d",
   "metadata": {},
   "outputs": [],
   "source": [
    "dataset = datasets.make_classification(n_samples =100, n_features=2, n_redundant = 0)"
   ]
  },
  {
   "cell_type": "code",
   "execution_count": 479,
   "id": "7a01a7fc",
   "metadata": {},
   "outputs": [
    {
     "data": {
      "text/plain": [
       "((100, 2), (100, 1))"
      ]
     },
     "execution_count": 479,
     "metadata": {},
     "output_type": "execute_result"
    }
   ],
   "source": [
    "X, y = dataset\n",
    "y = y.reshape(-1,1)\n",
    "X.shape, y.shape"
   ]
  },
  {
   "cell_type": "code",
   "execution_count": 492,
   "id": "f6dbc194",
   "metadata": {},
   "outputs": [],
   "source": [
    "class LogisticRegression:\n",
    "    \n",
    "    def __init__(self, lr, n_features):\n",
    "        self.lr = lr\n",
    "        self.w = np.zeros((n_features,1))\n",
    "        self.b = np.zeros((1, 1))\n",
    "        # X = > M, N # M, N + 1\n",
    "        # Y = > M, 1\n",
    "        # W = > N, 1 # N+1, 1\n",
    "    \n",
    "    def loss(self, X, y_hat, y):\n",
    "        m = X.shape[0]\n",
    "        return  (-1/m) * np.sum(y * np.log(y_hat) + (1-y)*np.log(1-y_hat))\n",
    "    \n",
    "    def sigmoid(self, Z):\n",
    "        return (1/(1 + np.exp(-Z)))\n",
    "    \n",
    "    def gradient_w(self, X, y_hat, y):\n",
    "\n",
    "        return 1/X.shape[0] * X.T @ (y_hat - y)\n",
    "    \n",
    "    def gradient_b(self, X, y_hat, y):\n",
    "        return 1/X.shape[0] * np.sum(y_hat - y)\n",
    "    \n",
    "    def predict(self, X):\n",
    "        return self.sigmoid(X @ self.w + self.b)\n",
    "    \n",
    "    def predict_grid(self, X):\n",
    "        print(X.shape)\n",
    "        print(self.w.shape)\n",
    "        print(self.w[1:,:].shape)\n",
    "        return self.sigmoid(X @ self.w[1:, :] + self.w[0,:])\n",
    "    \n",
    "    def fit(self, X, y):\n",
    "\n",
    "        predict = self.predict(X)\n",
    "        loss = self.loss(X, predict, y)\n",
    "        self.w = self.w - self.lr * self.gradient_w(X, predict, y)\n",
    "        self.b = self.b - self.lr * self.gradient_b(X, predict, y)\n",
    "        print(\"loss is \", loss.mean())\n",
    "            \n",
    "        \n",
    "        "
   ]
  },
  {
   "cell_type": "code",
   "execution_count": 493,
   "id": "3f01a7e0",
   "metadata": {},
   "outputs": [],
   "source": [
    "#X = np.hstack( [ np.ones((X.shape[0], 1)), X]   )\n",
    "model = LogisticRegression(lr=1e-1, n_features = X.shape[1])"
   ]
  },
  {
   "cell_type": "code",
   "execution_count": 494,
   "id": "5f4419b9",
   "metadata": {},
   "outputs": [
    {
     "name": "stdout",
     "output_type": "stream",
     "text": [
      "loss is  0.6931471805599453\n",
      "loss is  0.6703502370478204\n",
      "loss is  0.6492569816667526\n",
      "loss is  0.6297280942538303\n",
      "loss is  0.6116304464607489\n",
      "loss is  0.5948388778290084\n",
      "loss is  0.5792372178191448\n",
      "loss is  0.5647187071649635\n",
      "loss is  0.5511859738408285\n",
      "loss is  0.5385507019730743\n",
      "loss is  0.5267331067140802\n",
      "loss is  0.5156613014785704\n",
      "loss is  0.5052706199300667\n",
      "loss is  0.49550293534807405\n",
      "loss is  0.48630600476241925\n",
      "loss is  0.4776328540551119\n",
      "loss is  0.4694412123705862\n",
      "loss is  0.4616929988805497\n",
      "loss is  0.45435386154519947\n",
      "loss is  0.44739276545091067\n",
      "loss is  0.4407816271661414\n",
      "loss is  0.4344949910334974\n",
      "loss is  0.4285097431865086\n",
      "loss is  0.42280485919187316\n",
      "loss is  0.4173611814682678\n",
      "loss is  0.4121612229530021\n",
      "loss is  0.40718899383406204\n",
      "loss is  0.40242984851044517\n",
      "loss is  0.39787035027234907\n",
      "loss is  0.3934981514963644\n",
      "loss is  0.38930188742563315\n",
      "loss is  0.38527108185025505\n",
      "loss is  0.3813960632200076\n",
      "loss is  0.3776678899116781\n",
      "loss is  0.37407828353935385\n",
      "loss is  0.3706195693404619\n",
      "loss is  0.36728462279566876\n",
      "loss is  0.36406682174932564\n",
      "loss is  0.360960003391111\n",
      "loss is  0.35795842554083207\n",
      "loss is  0.3550567317486929\n",
      "loss is  0.3522499197842413\n",
      "loss is  0.349533313139954\n",
      "loss is  0.3469025352211594\n",
      "loss is  0.34435348593368376\n",
      "loss is  0.3418823204151082\n",
      "loss is  0.33948542968552425\n",
      "loss is  0.3371594230198307\n",
      "loss is  0.334901111866424\n",
      "loss is  0.33270749515707465\n",
      "loss is  0.33057574587022337\n",
      "loss is  0.3285031987252318\n",
      "loss is  0.3264873388985392\n",
      "loss is  0.32452579166448686\n",
      "loss is  0.32261631287396414\n",
      "loss is  0.3207567801931996\n",
      "loss is  0.31894518503311725\n",
      "loss is  0.3171796251068462\n",
      "loss is  0.31545829755931803\n",
      "loss is  0.3137794926185197\n",
      "loss is  0.3121415877229775\n",
      "loss is  0.3105430420845017\n",
      "loss is  0.3089823916491908\n",
      "loss is  0.30745824442324177\n",
      "loss is  0.3059692761332748\n",
      "loss is  0.3045142261937193\n",
      "loss is  0.30309189395634406\n",
      "loss is  0.30170113521929526\n",
      "loss is  0.3003408589750532\n",
      "loss is  0.2990100243785573\n",
      "loss is  0.29770763791841026\n",
      "loss is  0.2964327507755664\n",
      "loss is  0.29518445635525775\n",
      "loss is  0.29396188797913364\n",
      "loss is  0.2927642167256916\n",
      "loss is  0.29159064940807716\n",
      "loss is  0.29044042667923836\n",
      "loss is  0.28931282125524094\n",
      "loss is  0.28820713624830013\n",
      "loss is  0.2871227036017642\n",
      "loss is  0.28605888261990314\n",
      "loss is  0.28501505858592213\n",
      "loss is  0.2839906414621319\n",
      "loss is  0.2829850646666791\n",
      "loss is  0.28199778392167096\n",
      "loss is  0.28102827616791604\n",
      "loss is  0.2800760385418702\n",
      "loss is  0.27914058741069897\n",
      "loss is  0.27822145746167504\n",
      "loss is  0.2773182008424028\n",
      "loss is  0.276430386348621\n",
      "loss is  0.2755575986565641\n",
      "loss is  0.2746994375970823\n",
      "loss is  0.27385551746891484\n",
      "loss is  0.2730254663886981\n",
      "loss is  0.27220892567545424\n",
      "loss is  0.2714055492674639\n",
      "loss is  0.2706150031695714\n",
      "loss is  0.2698369649290985\n",
      "loss is  0.2690711231386715\n"
     ]
    }
   ],
   "source": [
    "import time\n",
    "from matplotlib import interactive\n",
    "interactive(True)\n",
    "epochs = 100\n",
    "for i in range(epochs):\n",
    "    model.fit(X, y)\n"
   ]
  },
  {
   "cell_type": "markdown",
   "id": "46b9b13f",
   "metadata": {},
   "source": [
    "# Decision boundary"
   ]
  },
  {
   "cell_type": "code",
   "execution_count": 495,
   "id": "da3b758b",
   "metadata": {},
   "outputs": [],
   "source": [
    "import matplotlib.pyplot as plt\n",
    "%matplotlib inline"
   ]
  },
  {
   "cell_type": "code",
   "execution_count": 496,
   "id": "9aea9e27",
   "metadata": {},
   "outputs": [],
   "source": [
    "def plot_decision(classifier, X, threshold):\n",
    "    min1, max1 = X[:, 0].min()-1, X[:, 0].max()+1\n",
    "    min2, max2 = X[:, 1].min()-1, X[:, 1].max()+1\n",
    "    \n",
    "    x1grid = np.arange(min1, max1, 0.1)\n",
    "    x2grid = np.arange(min2, max2, 0.1)\n",
    "    xx, yy = np.meshgrid(x1grid, x2grid)\n",
    "    \n",
    "    r1, r2 = xx.flatten(), yy.flatten()\n",
    "    r1, r2 = r1.reshape((len(r1), 1)), r2.reshape((len(r2), 1))\n",
    "    \n",
    "    grid = np.hstack((r1,r2))\n",
    "    \n",
    "    yhat = model.predict(grid)\n",
    "    yhat[yhat >= threshold] = 1\n",
    "    yhat[yhat < threshold] = 0\n",
    "    \n",
    "    zz = yhat.reshape(xx.shape)\n",
    "    \n",
    "    plt.contourf(xx, yy, zz, cmap='Paired')\n",
    "    # create scatter plot for samples from each class\n",
    "    for class_value in range(2):\n",
    "        # get row indexes for samples with this class\n",
    "        row_ix = np.where(y == class_value)\n",
    "        # create scatter of these samples\n",
    "        plt.scatter(X[row_ix, 0], X[row_ix, 1], cmap='Paired')\n",
    "        \n",
    "def plot_decision_bias(classifier, X, threshold):\n",
    "    min1, max1 = X[:, 1].min()-1, X[:, 1].max()+1\n",
    "    min2, max2 = X[:, 2].min()-1, X[:, 2].max()+1\n",
    "    \n",
    "    x1grid = np.arange(min1, max1, 0.1)\n",
    "    x2grid = np.arange(min2, max2, 0.1)\n",
    "    xx, yy = np.meshgrid(x1grid, x2grid)\n",
    "    \n",
    "    r1, r2 = xx.flatten(), yy.flatten()\n",
    "    r1, r2 = r1.reshape((len(r1), 1)), r2.reshape((len(r2), 1))\n",
    "    \n",
    "    grid = np.hstack((r1,r2))\n",
    "    \n",
    "    yhat = model.predict_grid(grid)\n",
    "    yhat[yhat >= threshold] = 1\n",
    "    yhat[yhat < threshold] = 0\n",
    "    \n",
    "    zz = yhat.reshape(xx.shape)\n",
    "    \n",
    "    plt.contourf(xx, yy, zz, cmap='Paired')\n",
    "    # create scatter plot for samples from each class\n",
    "    for class_value in range(2):\n",
    "        # get row indexes for samples with this class\n",
    "        row_ix = np.where(y == class_value)\n",
    "        # create scatter of these samples\n",
    "        plt.scatter(X[row_ix, 1], X[row_ix, 2], cmap='Paired')\n",
    "        plt.scatter(0,0, s=20)"
   ]
  },
  {
   "cell_type": "code",
   "execution_count": 497,
   "id": "51cd03e2",
   "metadata": {},
   "outputs": [
    {
     "name": "stderr",
     "output_type": "stream",
     "text": [
      "/var/folders/6v/9gb458t90k7dvc1hvl02dr4w0000gn/T/ipykernel_1945/1308054796.py:26: UserWarning: No data for colormapping provided via 'c'. Parameters 'cmap' will be ignored\n",
      "  plt.scatter(X[row_ix, 0], X[row_ix, 1], cmap='Paired')\n"
     ]
    },
    {
     "data": {
      "image/png": "[encoded data removed]",
      "text/plain": [
       "<Figure size 640x480 with 1 Axes>"
      ]
     },
     "metadata": {},
     "output_type": "display_data"
    }
   ],
   "source": [
    "plot_decision(model, X, 0.5)"
   ]
  },
  {
   "cell_type": "code",
   "execution_count": 461,
   "id": "751d7b52",
   "metadata": {},
   "outputs": [
    {
     "data": {
      "text/plain": [
       "(4736, 2)"
      ]
     },
     "execution_count": 461,
     "metadata": {},
     "output_type": "execute_result"
    }
   ],
   "source": [
    "grid.shape"
   ]
  },
  {
   "cell_type": "code",
   "execution_count": 288,
   "id": "d9920e63",
   "metadata": {},
   "outputs": [
    {
     "data": {
      "text/plain": [
       "(3, 1)"
      ]
     },
     "execution_count": 288,
     "metadata": {},
     "output_type": "execute_result"
    }
   ],
   "source": [
    "model.w.shape"
   ]
  },
  {
   "cell_type": "code",
   "execution_count": 289,
   "id": "83700c4e",
   "metadata": {},
   "outputs": [
    {
     "data": {
      "text/plain": [
       "(100, 3)"
      ]
     },
     "execution_count": 289,
     "metadata": {},
     "output_type": "execute_result"
    }
   ],
   "source": [
    "X.shape"
   ]
  },
  {
   "cell_type": "code",
   "execution_count": null,
   "id": "789a6cf1",
   "metadata": {},
   "outputs": [],
   "source": []
  }
 ],
 "metadata": {
  "kernelspec": {
   "display_name": "Python 3 (ipykernel)",
   "language": "python",
   "name": "python3"
  },
  "language_info": {
   "codemirror_mode": {
    "name": "ipython",
    "version": 3
   },
   "file_extension": ".py",
   "mimetype": "text/x-python",
   "name": "python",
   "nbconvert_exporter": "python",
   "pygments_lexer": "ipython3",
   "version": "3.10.7"
  }
 },
 "nbformat": 4,
 "nbformat_minor": 5
}
