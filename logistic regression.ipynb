{
 "cells": [
  {
   "cell_type": "code",
   "execution_count": 498,
   "id": "45ce6edd",
   "metadata": {},
   "outputs": [],
   "source": [
    "import numpy as np\n",
    "from sklearn import datasets\n",
    "from sklearn.inspection import DecisionBoundaryDisplay"
   ]
  },
  {
   "cell_type": "code",
   "execution_count": 499,
   "id": "dce5e39d",
   "metadata": {},
   "outputs": [],
   "source": [
    "dataset = datasets.make_classification(n_samples =100, n_features=2, n_redundant = 0)"
   ]
  },
  {
   "cell_type": "code",
   "execution_count": 500,
   "id": "7a01a7fc",
   "metadata": {},
   "outputs": [
    {
     "data": {
      "text/plain": [
       "((100, 2), (100, 1))"
      ]
     },
     "execution_count": 500,
     "metadata": {},
     "output_type": "execute_result"
    }
   ],
   "source": [
    "X, y = dataset\n",
    "y = y.reshape(-1,1)\n",
    "X.shape, y.shape"
   ]
  },
  {
   "cell_type": "code",
   "execution_count": 501,
   "id": "f6dbc194",
   "metadata": {},
   "outputs": [],
   "source": [
    "class LogisticRegression:\n",
    "    \n",
    "    def __init__(self, lr, n_features):\n",
    "        self.lr = lr\n",
    "        self.w = np.zeros((n_features,1))\n",
    "        self.b = np.zeros((1, 1))\n",
    "        # X = > M, N # M, N + 1\n",
    "        # Y = > M, 1\n",
    "        # W = > N, 1 # N+1, 1\n",
    "    \n",
    "    def loss(self, X, y_hat, y):\n",
    "        m = X.shape[0]\n",
    "        return  (-1/m) * np.sum(y * np.log(y_hat) + (1-y)*np.log(1-y_hat))\n",
    "    \n",
    "    def sigmoid(self, Z):\n",
    "        return (1/(1 + np.exp(-Z)))\n",
    "    \n",
    "    def gradient_w(self, X, y_hat, y):\n",
    "\n",
    "        return 1/X.shape[0] * X.T @ (y_hat - y)\n",
    "    \n",
    "    def gradient_b(self, X, y_hat, y):\n",
    "        return 1/X.shape[0] * np.sum(y_hat - y)\n",
    "    \n",
    "    def predict(self, X):\n",
    "        return self.sigmoid(X @ self.w + self.b)\n",
    "    \n",
    "    def predict_grid(self, X):\n",
    "        print(X.shape)\n",
    "        print(self.w.shape)\n",
    "        print(self.w[1:,:].shape)\n",
    "        return self.sigmoid(X @ self.w[1:, :] + self.w[0,:])\n",
    "    \n",
    "    def fit(self, X, y):\n",
    "\n",
    "        predict = self.predict(X)\n",
    "        loss = self.loss(X, predict, y)\n",
    "        self.w = self.w - self.lr * self.gradient_w(X, predict, y)\n",
    "        self.b = self.b - self.lr * self.gradient_b(X, predict, y)\n",
    "        print(\"loss is \", loss.mean())\n",
    "            \n",
    "        \n",
    "        "
   ]
  },
  {
   "cell_type": "code",
   "execution_count": 502,
   "id": "3f01a7e0",
   "metadata": {},
   "outputs": [],
   "source": [
    "#X = np.hstack( [ np.ones((X.shape[0], 1)), X]   )\n",
    "model = LogisticRegression(lr=1e-1, n_features = X.shape[1])"
   ]
  },
  {
   "cell_type": "code",
   "execution_count": 503,
   "id": "5f4419b9",
   "metadata": {},
   "outputs": [
    {
     "name": "stdout",
     "output_type": "stream",
     "text": [
      "loss is  0.6931471805599453\n",
      "loss is  0.6640215733145246\n",
      "loss is  0.6372391068024983\n",
      "loss is  0.6125872558122994\n",
      "loss is  0.5898661976527999\n",
      "loss is  0.5688909148220115\n",
      "loss is  0.5494921223437581\n",
      "loss is  0.5315163224627242\n",
      "loss is  0.5148252598142682\n",
      "loss is  0.49929500086434025\n",
      "loss is  0.48481480807889094\n",
      "loss is  0.4712859308128382\n",
      "loss is  0.45862039510831837\n",
      "loss is  0.4467398441244197\n",
      "loss is  0.4355744588376968\n",
      "loss is  0.42506197339007423\n",
      "loss is  0.415146789394215\n",
      "loss is  0.40577918721151596\n",
      "loss is  0.3969146285543173\n",
      "loss is  0.38851314287117755\n",
      "loss is  0.38053878922996787\n",
      "loss is  0.37295918538293793\n",
      "loss is  0.3657450960852629\n",
      "loss is  0.3588700733486607\n",
      "loss is  0.35231014201929356\n",
      "loss is  0.3460435247969654\n",
      "loss is  0.3400504015151044\n",
      "loss is  0.3343126981534651\n",
      "loss is  0.3288139016464611\n",
      "loss is  0.3235388970762134\n",
      "loss is  0.31847382430229937\n",
      "loss is  0.31360595148396114\n",
      "loss is  0.30892356330058185\n",
      "loss is  0.30441586197845055\n",
      "loss is  0.30007287949195155\n",
      "loss is  0.2958853995308013\n",
      "loss is  0.2918448880167337\n",
      "loss is  0.28794343111753173\n",
      "loss is  0.28417367984739417\n",
      "loss is  0.2805288004636796\n",
      "loss is  0.27700242997400926\n",
      "loss is  0.27358863615701945\n",
      "loss is  0.2702818815768963\n",
      "loss is  0.2670769911379991\n",
      "loss is  0.2639691227829649\n",
      "loss is  0.260953740986985\n",
      "loss is  0.258026592743593\n",
      "loss is  0.25518368577425726\n",
      "loss is  0.25242126872613185\n",
      "loss is  0.24973581315019272\n",
      "loss is  0.2471239970762518\n",
      "loss is  0.24458269002250027\n",
      "loss is  0.2421089392957175\n",
      "loss is  0.2396999574544556\n",
      "loss is  0.23735311082168054\n",
      "loss is  0.23506590894579688\n",
      "loss is  0.23283599491991616\n",
      "loss is  0.2306611364788698\n",
      "loss is  0.22853921780195785\n",
      "loss is  0.22646823195693558\n",
      "loss is  0.2244462739273792\n",
      "loss is  0.2224715341714573\n",
      "loss is  0.22054229266535583\n",
      "loss is  0.21865691338924736\n",
      "loss is  0.21681383921782374\n",
      "loss is  0.21501158718109217\n",
      "loss is  0.21324874406442396\n",
      "loss is  0.21152396231977375\n",
      "loss is  0.20983595626262244\n",
      "loss is  0.20818349853154547\n",
      "loss is  0.2065654167894229\n",
      "loss is  0.20498059064720456\n",
      "loss is  0.20342794879284895\n",
      "loss is  0.20190646630959508\n",
      "loss is  0.20041516216910593\n",
      "loss is  0.19895309688627938\n",
      "loss is  0.19751937032364697\n",
      "loss is  0.19611311963430914\n",
      "loss is  0.1947335173332746\n",
      "loss is  0.19337976948791724\n",
      "loss is  0.192051114019024\n",
      "loss is  0.1907468191045961\n",
      "loss is  0.1894661816792017\n",
      "loss is  0.18820852602224594\n",
      "loss is  0.1869732024290489\n",
      "loss is  0.1857595859590995\n",
      "loss is  0.18456707525628507\n",
      "loss is  0.18339509143629693\n",
      "loss is  0.18224307703677425\n",
      "loss is  0.18111049502608206\n",
      "loss is  0.17999682786692212\n",
      "loss is  0.17890157663125927\n",
      "loss is  0.1778242601632972\n",
      "loss is  0.17676441428747783\n",
      "loss is  0.17572159105869214\n",
      "loss is  0.17469535805209194\n",
      "loss is  0.17368529769007318\n",
      "loss is  0.17269100660417333\n",
      "loss is  0.17171209502977938\n",
      "loss is  0.17074818623168675\n"
     ]
    }
   ],
   "source": [
    "import time\n",
    "from matplotlib import interactive\n",
    "interactive(True)\n",
    "epochs = 100\n",
    "for i in range(epochs):\n",
    "    model.fit(X, y)\n"
   ]
  },
  {
   "cell_type": "markdown",
   "id": "46b9b13f",
   "metadata": {},
   "source": [
    "# Decision boundary"
   ]
  },
  {
   "cell_type": "code",
   "execution_count": 504,
   "id": "da3b758b",
   "metadata": {},
   "outputs": [],
   "source": [
    "import matplotlib.pyplot as plt\n",
    "%matplotlib inline"
   ]
  },
  {
   "cell_type": "code",
   "execution_count": 509,
   "id": "9aea9e27",
   "metadata": {},
   "outputs": [],
   "source": [
    "def plot_decision(classifier, X, threshold):\n",
    "    min1, max1 = X[:, 0].min()-1, X[:, 0].max()+1\n",
    "    min2, max2 = X[:, 1].min()-1, X[:, 1].max()+1\n",
    "    \n",
    "    x1grid = np.arange(min1, max1, 0.1)\n",
    "    x2grid = np.arange(min2, max2, 0.1)\n",
    "    xx, yy = np.meshgrid(x1grid, x2grid)\n",
    "    \n",
    "    r1, r2 = xx.flatten(), yy.flatten()\n",
    "    r1, r2 = r1.reshape((len(r1), 1)), r2.reshape((len(r2), 1))\n",
    "    \n",
    "    grid = np.hstack((r1,r2))\n",
    "    \n",
    "    yhat = model.predict(grid)\n",
    "    yhat[yhat >= threshold] = 1\n",
    "    yhat[yhat < threshold] = 0\n",
    "    \n",
    "    zz = yhat.reshape(xx.shape)\n",
    "    \n",
    "    plt.contourf(xx, yy, zz, cmap='Paired')\n",
    "    # create scatter plot for samples from each class\n",
    "    for class_value in range(2):\n",
    "        # get row indexes for samples with this class\n",
    "        row_ix = np.where(y == class_value)\n",
    "        # create scatter of these samples\n",
    "        plt.scatter(X[row_ix, 0], X[row_ix, 1], cmap='Paired')\n",
    "    \n",
    "        \n",
    "def plot_decision_bias(classifier, X, threshold):\n",
    "    min1, max1 = X[:, 1].min()-1, X[:, 1].max()+1\n",
    "    min2, max2 = X[:, 2].min()-1, X[:, 2].max()+1\n",
    "    \n",
    "    x1grid = np.arange(min1, max1, 0.1)\n",
    "    x2grid = np.arange(min2, max2, 0.1)\n",
    "    xx, yy = np.meshgrid(x1grid, x2grid)\n",
    "    \n",
    "    r1, r2 = xx.flatten(), yy.flatten()\n",
    "    r1, r2 = r1.reshape((len(r1), 1)), r2.reshape((len(r2), 1))\n",
    "    \n",
    "    grid = np.hstack((r1,r2))\n",
    "    \n",
    "    yhat = model.predict_grid(grid)\n",
    "    yhat[yhat >= threshold] = 1\n",
    "    yhat[yhat < threshold] = 0\n",
    "    \n",
    "    zz = yhat.reshape(xx.shape)\n",
    "    \n",
    "    plt.contourf(xx, yy, zz, cmap='Paired')\n",
    "    # create scatter plot for samples from each class\n",
    "    for class_value in range(2):\n",
    "        # get row indexes for samples with this class\n",
    "        row_ix = np.where(y == class_value)\n",
    "        # create scatter of these samples\n",
    "        plt.scatter(X[row_ix, 1], X[row_ix, 2], cmap='Paired')\n",
    "        plt.scatter(0,0, s=20)"
   ]
  },
  {
   "cell_type": "code",
   "execution_count": 510,
   "id": "51cd03e2",
   "metadata": {},
   "outputs": [
    {
     "name": "stderr",
     "output_type": "stream",
     "text": [
      "/var/folders/6v/9gb458t90k7dvc1hvl02dr4w0000gn/T/ipykernel_1945/1720062664.py:26: UserWarning: No data for colormapping provided via 'c'. Parameters 'cmap' will be ignored\n",
      "  plt.scatter(X[row_ix, 0], X[row_ix, 1], cmap='Paired')\n"
     ]
    },
    {
     "data": {
      "image/png": "[encoded data removed]",
      "text/plain": [
       "<Figure size 640x480 with 1 Axes>"
      ]
     },
     "metadata": {},
     "output_type": "display_data"
    }
   ],
   "source": [
    "plot_decision(model, X, 0.5)"
   ]
  },
  {
   "cell_type": "code",
   "execution_count": 461,
   "id": "751d7b52",
   "metadata": {},
   "outputs": [
    {
     "data": {
      "text/plain": [
       "(4736, 2)"
      ]
     },
     "execution_count": 461,
     "metadata": {},
     "output_type": "execute_result"
    }
   ],
   "source": [
    "grid.shape"
   ]
  },
  {
   "cell_type": "code",
   "execution_count": 288,
   "id": "d9920e63",
   "metadata": {},
   "outputs": [
    {
     "data": {
      "text/plain": [
       "(3, 1)"
      ]
     },
     "execution_count": 288,
     "metadata": {},
     "output_type": "execute_result"
    }
   ],
   "source": [
    "model.w.shape"
   ]
  },
  {
   "cell_type": "code",
   "execution_count": 289,
   "id": "83700c4e",
   "metadata": {},
   "outputs": [
    {
     "data": {
      "text/plain": [
       "(100, 3)"
      ]
     },
     "execution_count": 289,
     "metadata": {},
     "output_type": "execute_result"
    }
   ],
   "source": [
    "X.shape"
   ]
  },
  {
   "cell_type": "code",
   "execution_count": null,
   "id": "789a6cf1",
   "metadata": {},
   "outputs": [],
   "source": []
  }
 ],
 "metadata": {
  "kernelspec": {
   "display_name": "Python 3 (ipykernel)",
   "language": "python",
   "name": "python3"
  },
  "language_info": {
   "codemirror_mode": {
    "name": "ipython",
    "version": 3
   },
   "file_extension": ".py",
   "mimetype": "text/x-python",
   "name": "python",
   "nbconvert_exporter": "python",
   "pygments_lexer": "ipython3",
   "version": "3.10.7"
  }
 },
 "nbformat": 4,
 "nbformat_minor": 5
}
