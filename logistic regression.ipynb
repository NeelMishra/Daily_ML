{
 "cells": [
  {
   "cell_type": "code",
   "execution_count": 211,
   "id": "1e531f53",
   "metadata": {},
   "outputs": [],
   "source": [
    "import numpy as np\n",
    "from sklearn import datasets\n",
    "from sklearn.inspection import DecisionBoundaryDisplay"
   ]
  },
  {
   "cell_type": "code",
   "execution_count": 212,
   "id": "4ca9455e",
   "metadata": {},
   "outputs": [],
   "source": [
    "dataset = datasets.make_classification(n_samples =100, n_features=2, n_redundant = 0)"
   ]
  },
  {
   "cell_type": "code",
   "execution_count": 213,
   "id": "650ab8c1",
   "metadata": {},
   "outputs": [
    {
     "data": {
      "text/plain": [
       "((100, 2), (100, 1))"
      ]
     },
     "execution_count": 213,
     "metadata": {},
     "output_type": "execute_result"
    }
   ],
   "source": [
    "X, y = dataset\n",
    "y = y.reshape(-1,1)\n",
    "X.shape, y.shape"
   ]
  },
  {
   "cell_type": "code",
   "execution_count": 236,
   "id": "0fd0ebe1",
   "metadata": {},
   "outputs": [],
   "source": [
    "class LogisticRegression:\n",
    "    \n",
    "    def __init__(self, lr, n_features):\n",
    "        self.lr = lr\n",
    "        self.w = np.zeros((n_features,1))\n",
    "        # X = > M, N\n",
    "        # Y = > M, 1\n",
    "        # W = > N, 1\n",
    "    \n",
    "    def loss(self, X, y_hat, y):\n",
    "        m = X.shape[0]\n",
    "        return  (-1/m) * np.sum(y * np.log(y_hat) + (1-y)*np.log(1-y_hat))\n",
    "    \n",
    "    def sigmoid(self, Z):\n",
    "        return (1/(1 + np.exp(-Z)))\n",
    "    \n",
    "    def gradient(self, X, y_hat, y):\n",
    "\n",
    "        return X.T @ (y_hat - y)\n",
    "    \n",
    "    def predict(self, X):\n",
    "        return self.sigmoid(X @ self.w)\n",
    "    \n",
    "    def fit(self, X, y):\n",
    "\n",
    "        predict = self.sigmoid(X @ self.w)\n",
    "        loss = self.loss(X, predict, y)\n",
    "        self.w = self.w - self.lr * self.gradient(X, predict, y)\n",
    "        print(\"loss is \", loss.mean())\n",
    "            \n",
    "        \n",
    "        "
   ]
  },
  {
   "cell_type": "code",
   "execution_count": 237,
   "id": "e6f7799a",
   "metadata": {},
   "outputs": [],
   "source": [
    "model = LogisticRegression(lr=1e-1, n_features = X.shape[1])"
   ]
  },
  {
   "cell_type": "code",
   "execution_count": 244,
   "id": "129fd281",
   "metadata": {},
   "outputs": [
    {
     "name": "stdout",
     "output_type": "stream",
     "text": [
      "loss is  0.19850155358903998\n"
     ]
    },
    {
     "name": "stderr",
     "output_type": "stream",
     "text": [
      "/var/folders/6v/9gb458t90k7dvc1hvl02dr4w0000gn/T/ipykernel_1945/2503112746.py:26: UserWarning: No data for colormapping provided via 'c'. Parameters 'cmap' will be ignored\n",
      "  plt.scatter(X[row_ix, 0], X[row_ix, 1], cmap='Paired')\n"
     ]
    },
    {
     "name": "stdout",
     "output_type": "stream",
     "text": [
      "loss is  0.19850155358903987\n",
      "loss is  0.19850155358904004\n",
      "loss is  0.19850155358903995\n",
      "loss is  0.19850155358904012\n",
      "loss is  0.19850155358903998\n",
      "loss is  0.1985015535890401\n",
      "loss is  0.1985015535890399\n",
      "loss is  0.19850155358903998\n",
      "loss is  0.1985015535890401\n",
      "loss is  0.19850155358904012\n",
      "loss is  0.19850155358903984\n",
      "loss is  0.1985015535890399\n",
      "loss is  0.19850155358903998\n",
      "loss is  0.19850155358903998\n",
      "loss is  0.19850155358904004\n",
      "loss is  0.19850155358904004\n",
      "loss is  0.19850155358904012\n",
      "loss is  0.19850155358904012\n",
      "loss is  0.19850155358904012\n",
      "loss is  0.19850155358903984\n",
      "loss is  0.19850155358903984\n",
      "loss is  0.19850155358903984\n",
      "loss is  0.1985015535890399\n",
      "loss is  0.19850155358903995\n",
      "loss is  0.19850155358903987\n",
      "loss is  0.1985015535890399\n",
      "loss is  0.1985015535890399\n",
      "loss is  0.1985015535890399\n",
      "loss is  0.1985015535890399\n",
      "loss is  0.1985015535890399\n",
      "loss is  0.19850155358903995\n",
      "loss is  0.19850155358903995\n",
      "loss is  0.19850155358903995\n",
      "loss is  0.19850155358903995\n",
      "loss is  0.19850155358903995\n",
      "loss is  0.19850155358903998\n",
      "loss is  0.19850155358903995\n",
      "loss is  0.19850155358903995\n",
      "loss is  0.19850155358903995\n",
      "loss is  0.19850155358903995\n",
      "loss is  0.19850155358903995\n",
      "loss is  0.19850155358903995\n",
      "loss is  0.19850155358903995\n",
      "loss is  0.19850155358903995\n",
      "loss is  0.19850155358903995\n",
      "loss is  0.19850155358903995\n",
      "loss is  0.19850155358903995\n",
      "loss is  0.19850155358903995\n",
      "loss is  0.19850155358903995\n",
      "loss is  0.19850155358903995\n",
      "loss is  0.19850155358903995\n",
      "loss is  0.19850155358903995\n",
      "loss is  0.19850155358903995\n",
      "loss is  0.19850155358903995\n",
      "loss is  0.19850155358903995\n",
      "loss is  0.19850155358903995\n",
      "loss is  0.19850155358903995\n",
      "loss is  0.19850155358903995\n",
      "loss is  0.19850155358903995\n",
      "loss is  0.19850155358903995\n",
      "loss is  0.19850155358903995\n",
      "loss is  0.19850155358903995\n",
      "loss is  0.19850155358903995\n",
      "loss is  0.19850155358903995\n",
      "loss is  0.19850155358903995\n",
      "loss is  0.19850155358903995\n",
      "loss is  0.19850155358903995\n",
      "loss is  0.19850155358903995\n",
      "loss is  0.19850155358903995\n",
      "loss is  0.19850155358903995\n",
      "loss is  0.19850155358903995\n",
      "loss is  0.19850155358903995\n",
      "loss is  0.19850155358903995\n",
      "loss is  0.19850155358903995\n",
      "loss is  0.19850155358903995\n",
      "loss is  0.19850155358903995\n",
      "loss is  0.19850155358903995\n",
      "loss is  0.19850155358903995\n",
      "loss is  0.19850155358903995\n",
      "loss is  0.19850155358903995\n",
      "loss is  0.19850155358903995\n",
      "loss is  0.19850155358903995\n",
      "loss is  0.19850155358903995\n",
      "loss is  0.19850155358903995\n",
      "loss is  0.19850155358903995\n",
      "loss is  0.19850155358903995\n",
      "loss is  0.19850155358903995\n",
      "loss is  0.19850155358903995\n",
      "loss is  0.19850155358903995\n",
      "loss is  0.19850155358903995\n",
      "loss is  0.19850155358903995\n",
      "loss is  0.19850155358903995\n",
      "loss is  0.19850155358903995\n",
      "loss is  0.19850155358903995\n",
      "loss is  0.19850155358903995\n",
      "loss is  0.19850155358903995\n",
      "loss is  0.19850155358903995\n",
      "loss is  0.19850155358903995\n",
      "loss is  0.19850155358903995\n"
     ]
    },
    {
     "data": {
      "image/png": "[encoded data removed]",
      "text/plain": [
       "<Figure size 640x480 with 1 Axes>"
      ]
     },
     "metadata": {},
     "output_type": "display_data"
    }
   ],
   "source": [
    "import time\n",
    "from matplotlib import interactive\n",
    "interactive(True)\n",
    "epochs = 100\n",
    "for i in range(epochs):\n",
    "    model.fit(X, y)\n",
    "    plot_decision(model, X, 0.7)\n",
    "    time.sleep(0.3)"
   ]
  },
  {
   "cell_type": "markdown",
   "id": "e1d09632",
   "metadata": {},
   "source": [
    "# Decision boundary"
   ]
  },
  {
   "cell_type": "code",
   "execution_count": 239,
   "id": "4641f111",
   "metadata": {},
   "outputs": [],
   "source": [
    "import matplotlib.pyplot as plt\n",
    "%matplotlib inline"
   ]
  },
  {
   "cell_type": "code",
   "execution_count": 232,
   "id": "fbe4a5ac",
   "metadata": {},
   "outputs": [],
   "source": [
    "def plot_decision(classifier, X, threshold):\n",
    "    min1, max1 = X[:, 0].min()-1, X[:, 0].max()+1\n",
    "    min2, max2 = X[:, 1].min()-1, X[:, 1].max()+1\n",
    "    \n",
    "    x1grid = np.arange(min1, max1, 0.1)\n",
    "    x2grid = np.arange(min2, max2, 0.1)\n",
    "    xx, yy = np.meshgrid(x1grid, x2grid)\n",
    "    \n",
    "    r1, r2 = xx.flatten(), yy.flatten()\n",
    "    r1, r2 = r1.reshape((len(r1), 1)), r2.reshape((len(r2), 1))\n",
    "    \n",
    "    grid = np.hstack((r1,r2))\n",
    "    \n",
    "    yhat = model.predict(grid)\n",
    "    yhat[yhat >= threshold] = 1\n",
    "    yhat[yhat < threshold] = 0\n",
    "    \n",
    "    zz = yhat.reshape(xx.shape)\n",
    "    \n",
    "    plt.contourf(xx, yy, zz, cmap='Paired')\n",
    "    # create scatter plot for samples from each class\n",
    "    for class_value in range(2):\n",
    "        # get row indexes for samples with this class\n",
    "        row_ix = np.where(y == class_value)\n",
    "        # create scatter of these samples\n",
    "        plt.scatter(X[row_ix, 0], X[row_ix, 1], cmap='Paired')"
   ]
  },
  {
   "cell_type": "code",
   "execution_count": 234,
   "id": "3488dc77",
   "metadata": {},
   "outputs": [
    {
     "name": "stderr",
     "output_type": "stream",
     "text": [
      "/var/folders/6v/9gb458t90k7dvc1hvl02dr4w0000gn/T/ipykernel_1945/2503112746.py:26: UserWarning: No data for colormapping provided via 'c'. Parameters 'cmap' will be ignored\n",
      "  plt.scatter(X[row_ix, 0], X[row_ix, 1], cmap='Paired')\n"
     ]
    },
    {
     "data": {
      "image/png": "[encoded data removed]",
      "text/plain": [
       "<Figure size 640x480 with 1 Axes>"
      ]
     },
     "metadata": {},
     "output_type": "display_data"
    }
   ],
   "source": [
    "plot_decision(model, X, 0.5)"
   ]
  },
  {
   "cell_type": "code",
   "execution_count": 219,
   "id": "7a08d842",
   "metadata": {},
   "outputs": [],
   "source": []
  },
  {
   "cell_type": "code",
   "execution_count": 220,
   "id": "233d274a",
   "metadata": {},
   "outputs": [],
   "source": []
  },
  {
   "cell_type": "code",
   "execution_count": 221,
   "id": "9a03b89d",
   "metadata": {},
   "outputs": [],
   "source": []
  },
  {
   "cell_type": "code",
   "execution_count": 222,
   "id": "622e4e63",
   "metadata": {},
   "outputs": [],
   "source": []
  },
  {
   "cell_type": "code",
   "execution_count": 229,
   "id": "97c3e996",
   "metadata": {},
   "outputs": [],
   "source": []
  },
  {
   "cell_type": "code",
   "execution_count": 230,
   "id": "698d056b",
   "metadata": {},
   "outputs": [],
   "source": []
  },
  {
   "cell_type": "code",
   "execution_count": 231,
   "id": "7edfdc55",
   "metadata": {},
   "outputs": [
    {
     "name": "stderr",
     "output_type": "stream",
     "text": [
      "/var/folders/6v/9gb458t90k7dvc1hvl02dr4w0000gn/T/ipykernel_1945/2412491406.py:7: UserWarning: No data for colormapping provided via 'c'. Parameters 'cmap' will be ignored\n",
      "  plt.scatter(X[row_ix, 0], X[row_ix, 1], cmap='Paired')\n"
     ]
    },
    {
     "data": {
      "image/png": "[encoded data removed]",
      "text/plain": [
       "<Figure size 640x480 with 1 Axes>"
      ]
     },
     "metadata": {},
     "output_type": "display_data"
    }
   ],
   "source": []
  },
  {
   "cell_type": "code",
   "execution_count": 228,
   "id": "e273f8aa",
   "metadata": {},
   "outputs": [
    {
     "data": {
      "text/plain": [
       "array([[4.07826249e-08],\n",
       "       [4.31340004e-08],\n",
       "       [4.56209476e-08],\n",
       "       ...,\n",
       "       [9.99999411e-01],\n",
       "       [9.99999443e-01],\n",
       "       [9.99999474e-01]])"
      ]
     },
     "execution_count": 228,
     "metadata": {},
     "output_type": "execute_result"
    }
   ],
   "source": [
    "yhat"
   ]
  },
  {
   "cell_type": "code",
   "execution_count": null,
   "id": "5a94f4f8",
   "metadata": {},
   "outputs": [],
   "source": []
  }
 ],
 "metadata": {
  "kernelspec": {
   "display_name": "Python 3 (ipykernel)",
   "language": "python",
   "name": "python3"
  },
  "language_info": {
   "codemirror_mode": {
    "name": "ipython",
    "version": 3
   },
   "file_extension": ".py",
   "mimetype": "text/x-python",
   "name": "python",
   "nbconvert_exporter": "python",
   "pygments_lexer": "ipython3",
   "version": "3.10.7"
  }
 },
 "nbformat": 4,
 "nbformat_minor": 5
}
