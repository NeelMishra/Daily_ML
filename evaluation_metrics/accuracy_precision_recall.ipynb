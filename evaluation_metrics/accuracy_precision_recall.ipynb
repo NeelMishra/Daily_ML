{
 "cells": [
  {
   "cell_type": "code",
   "execution_count": 2,
   "id": "37e0b760",
   "metadata": {},
   "outputs": [],
   "source": [
    "from sklearn.dummy import DummyClassifier\n",
    "from sklearn import datasets\n",
    "import numpy as np\n",
    "import sklearn"
   ]
  },
  {
   "cell_type": "code",
   "execution_count": 3,
   "id": "4cca5cf4",
   "metadata": {},
   "outputs": [],
   "source": [
    "model = DummyClassifier(strategy=\"most_frequent\")"
   ]
  },
  {
   "cell_type": "code",
   "execution_count": 4,
   "id": "77bdd44a",
   "metadata": {},
   "outputs": [],
   "source": [
    "X, y = datasets.make_circles()\n",
    "y = y.reshape(-1,1)"
   ]
  },
  {
   "cell_type": "code",
   "execution_count": 5,
   "id": "26e30949",
   "metadata": {},
   "outputs": [
    {
     "data": {
      "text/plain": [
       "((100, 2), (100, 1))"
      ]
     },
     "execution_count": 5,
     "metadata": {},
     "output_type": "execute_result"
    }
   ],
   "source": [
    "X.shape, y.shape"
   ]
  },
  {
   "cell_type": "code",
   "execution_count": 6,
   "id": "48f830e0",
   "metadata": {},
   "outputs": [
    {
     "data": {
      "text/html": [
       "<style>#sk-container-id-1 {color: black;background-color: white;}#sk-container-id-1 pre{padding: 0;}#sk-container-id-1 div.sk-toggleable {background-color: white;}#sk-container-id-1 label.sk-toggleable__label {cursor: pointer;display: block;width: 100%;margin-bottom: 0;padding: 0.3em;box-sizing: border-box;text-align: center;}#sk-container-id-1 label.sk-toggleable__label-arrow:before {content: \"▸\";float: left;margin-right: 0.25em;color: #696969;}#sk-container-id-1 label.sk-toggleable__label-arrow:hover:before {color: black;}#sk-container-id-1 div.sk-estimator:hover label.sk-toggleable__label-arrow:before {color: black;}#sk-container-id-1 div.sk-toggleable__content {max-height: 0;max-width: 0;overflow: hidden;text-align: left;background-color: #f0f8ff;}#sk-container-id-1 div.sk-toggleable__content pre {margin: 0.2em;color: black;border-radius: 0.25em;background-color: #f0f8ff;}#sk-container-id-1 input.sk-toggleable__control:checked~div.sk-toggleable__content {max-height: 200px;max-width: 100%;overflow: auto;}#sk-container-id-1 input.sk-toggleable__control:checked~label.sk-toggleable__label-arrow:before {content: \"▾\";}#sk-container-id-1 div.sk-estimator input.sk-toggleable__control:checked~label.sk-toggleable__label {background-color: #d4ebff;}#sk-container-id-1 div.sk-label input.sk-toggleable__control:checked~label.sk-toggleable__label {background-color: #d4ebff;}#sk-container-id-1 input.sk-hidden--visually {border: 0;clip: rect(1px 1px 1px 1px);clip: rect(1px, 1px, 1px, 1px);height: 1px;margin: -1px;overflow: hidden;padding: 0;position: absolute;width: 1px;}#sk-container-id-1 div.sk-estimator {font-family: monospace;background-color: #f0f8ff;border: 1px dotted black;border-radius: 0.25em;box-sizing: border-box;margin-bottom: 0.5em;}#sk-container-id-1 div.sk-estimator:hover {background-color: #d4ebff;}#sk-container-id-1 div.sk-parallel-item::after {content: \"\";width: 100%;border-bottom: 1px solid gray;flex-grow: 1;}#sk-container-id-1 div.sk-label:hover label.sk-toggleable__label {background-color: #d4ebff;}#sk-container-id-1 div.sk-serial::before {content: \"\";position: absolute;border-left: 1px solid gray;box-sizing: border-box;top: 0;bottom: 0;left: 50%;z-index: 0;}#sk-container-id-1 div.sk-serial {display: flex;flex-direction: column;align-items: center;background-color: white;padding-right: 0.2em;padding-left: 0.2em;position: relative;}#sk-container-id-1 div.sk-item {position: relative;z-index: 1;}#sk-container-id-1 div.sk-parallel {display: flex;align-items: stretch;justify-content: center;background-color: white;position: relative;}#sk-container-id-1 div.sk-item::before, #sk-container-id-1 div.sk-parallel-item::before {content: \"\";position: absolute;border-left: 1px solid gray;box-sizing: border-box;top: 0;bottom: 0;left: 50%;z-index: -1;}#sk-container-id-1 div.sk-parallel-item {display: flex;flex-direction: column;z-index: 1;position: relative;background-color: white;}#sk-container-id-1 div.sk-parallel-item:first-child::after {align-self: flex-end;width: 50%;}#sk-container-id-1 div.sk-parallel-item:last-child::after {align-self: flex-start;width: 50%;}#sk-container-id-1 div.sk-parallel-item:only-child::after {width: 0;}#sk-container-id-1 div.sk-dashed-wrapped {border: 1px dashed gray;margin: 0 0.4em 0.5em 0.4em;box-sizing: border-box;padding-bottom: 0.4em;background-color: white;}#sk-container-id-1 div.sk-label label {font-family: monospace;font-weight: bold;display: inline-block;line-height: 1.2em;}#sk-container-id-1 div.sk-label-container {text-align: center;}#sk-container-id-1 div.sk-container {/* jupyter's `normalize.less` sets `[hidden] { display: none; }` but bootstrap.min.css set `[hidden] { display: none !important; }` so we also need the `!important` here to be able to override the default hidden behavior on the sphinx rendered scikit-learn.org. See: https://github.com/scikit-learn/scikit-learn/issues/21755 */display: inline-block !important;position: relative;}#sk-container-id-1 div.sk-text-repr-fallback {display: none;}</style><div id=\"sk-container-id-1\" class=\"sk-top-container\"><div class=\"sk-text-repr-fallback\"><pre>DummyClassifier(strategy=&#x27;most_frequent&#x27;)</pre><b>In a Jupyter environment, please rerun this cell to show the HTML representation or trust the notebook. <br />On GitHub, the HTML representation is unable to render, please try loading this page with nbviewer.org.</b></div><div class=\"sk-container\" hidden><div class=\"sk-item\"><div class=\"sk-estimator sk-toggleable\"><input class=\"sk-toggleable__control sk-hidden--visually\" id=\"sk-estimator-id-1\" type=\"checkbox\" checked><label for=\"sk-estimator-id-1\" class=\"sk-toggleable__label sk-toggleable__label-arrow\">DummyClassifier</label><div class=\"sk-toggleable__content\"><pre>DummyClassifier(strategy=&#x27;most_frequent&#x27;)</pre></div></div></div></div></div>"
      ],
      "text/plain": [
       "DummyClassifier(strategy='most_frequent')"
      ]
     },
     "execution_count": 6,
     "metadata": {},
     "output_type": "execute_result"
    }
   ],
   "source": [
    "model.fit(X,y)"
   ]
  },
  {
   "cell_type": "markdown",
   "id": "5fa9f492",
   "metadata": {},
   "source": [
    "## Playing around"
   ]
  },
  {
   "cell_type": "code",
   "execution_count": 39,
   "id": "f2578dc1",
   "metadata": {},
   "outputs": [
    {
     "name": "stdout",
     "output_type": "stream",
     "text": [
      "(50, 2)\n"
     ]
    }
   ],
   "source": [
    "mask = np.where(y==0)[0]\n",
    "refined = X[mask]\n",
    "print(refined.shape)"
   ]
  },
  {
   "cell_type": "code",
   "execution_count": 42,
   "id": "d7569836",
   "metadata": {},
   "outputs": [],
   "source": [
    "import pandas as pd"
   ]
  },
  {
   "cell_type": "code",
   "execution_count": 71,
   "id": "91834a7b",
   "metadata": {},
   "outputs": [
    {
     "data": {
      "text/plain": [
       "(100, 2)"
      ]
     },
     "execution_count": 71,
     "metadata": {},
     "output_type": "execute_result"
    }
   ],
   "source": [
    "df = pd.DataFrame(X)\n",
    "y_df = pd.DataFrame(y)\n",
    "df.shape"
   ]
  },
  {
   "cell_type": "code",
   "execution_count": 46,
   "id": "4d29ffd0",
   "metadata": {},
   "outputs": [
    {
     "data": {
      "text/html": [
       "<div>\n",
       "<style scoped>\n",
       "    .dataframe tbody tr th:only-of-type {\n",
       "        vertical-align: middle;\n",
       "    }\n",
       "\n",
       "    .dataframe tbody tr th {\n",
       "        vertical-align: top;\n",
       "    }\n",
       "\n",
       "    .dataframe thead th {\n",
       "        text-align: right;\n",
       "    }\n",
       "</style>\n",
       "<table border=\"1\" class=\"dataframe\">\n",
       "  <thead>\n",
       "    <tr style=\"text-align: right;\">\n",
       "      <th></th>\n",
       "      <th>0</th>\n",
       "      <th>1</th>\n",
       "    </tr>\n",
       "  </thead>\n",
       "  <tbody>\n",
       "    <tr>\n",
       "      <th>0</th>\n",
       "      <td>-0.583175</td>\n",
       "      <td>0.547638</td>\n",
       "    </tr>\n",
       "    <tr>\n",
       "      <th>1</th>\n",
       "      <td>-0.050232</td>\n",
       "      <td>0.798421</td>\n",
       "    </tr>\n",
       "    <tr>\n",
       "      <th>2</th>\n",
       "      <td>0.187381</td>\n",
       "      <td>-0.982287</td>\n",
       "    </tr>\n",
       "    <tr>\n",
       "      <th>3</th>\n",
       "      <td>0.309017</td>\n",
       "      <td>0.951057</td>\n",
       "    </tr>\n",
       "    <tr>\n",
       "      <th>4</th>\n",
       "      <td>-0.247214</td>\n",
       "      <td>0.760845</td>\n",
       "    </tr>\n",
       "  </tbody>\n",
       "</table>\n",
       "</div>"
      ],
      "text/plain": [
       "          0         1\n",
       "0 -0.583175  0.547638\n",
       "1 -0.050232  0.798421\n",
       "2  0.187381 -0.982287\n",
       "3  0.309017  0.951057\n",
       "4 -0.247214  0.760845"
      ]
     },
     "execution_count": 46,
     "metadata": {},
     "output_type": "execute_result"
    }
   ],
   "source": [
    "df.head()"
   ]
  },
  {
   "cell_type": "code",
   "execution_count": 52,
   "id": "8fbc13b0",
   "metadata": {},
   "outputs": [
    {
     "data": {
      "text/plain": [
       "(50, 2)"
      ]
     },
     "execution_count": 52,
     "metadata": {},
     "output_type": "execute_result"
    }
   ],
   "source": [
    "df[y==0].shape\n",
    "# need to convert the other to dataframe as well"
   ]
  },
  {
   "cell_type": "code",
   "execution_count": 69,
   "id": "c61cb38e",
   "metadata": {},
   "outputs": [],
   "source": [
    "pre = \"col_processed_\"\n",
    "for i,col_i in df.T.iterrows():\n",
    "    for j, col_j in df.T.iterrows():\n",
    "        df[pre+str(i)] = col_i * col_j"
   ]
  },
  {
   "cell_type": "code",
   "execution_count": 70,
   "id": "dc67cea7",
   "metadata": {},
   "outputs": [
    {
     "data": {
      "text/html": [
       "<div>\n",
       "<style scoped>\n",
       "    .dataframe tbody tr th:only-of-type {\n",
       "        vertical-align: middle;\n",
       "    }\n",
       "\n",
       "    .dataframe tbody tr th {\n",
       "        vertical-align: top;\n",
       "    }\n",
       "\n",
       "    .dataframe thead th {\n",
       "        text-align: right;\n",
       "    }\n",
       "</style>\n",
       "<table border=\"1\" class=\"dataframe\">\n",
       "  <thead>\n",
       "    <tr style=\"text-align: right;\">\n",
       "      <th></th>\n",
       "      <th>0</th>\n",
       "      <th>1</th>\n",
       "      <th>col_processed_0</th>\n",
       "      <th>col_processed_1</th>\n",
       "    </tr>\n",
       "  </thead>\n",
       "  <tbody>\n",
       "    <tr>\n",
       "      <th>0</th>\n",
       "      <td>-0.583175</td>\n",
       "      <td>0.547638</td>\n",
       "      <td>-0.319369</td>\n",
       "      <td>-0.174898</td>\n",
       "    </tr>\n",
       "    <tr>\n",
       "      <th>1</th>\n",
       "      <td>-0.050232</td>\n",
       "      <td>0.798421</td>\n",
       "      <td>-0.040107</td>\n",
       "      <td>-0.032022</td>\n",
       "    </tr>\n",
       "    <tr>\n",
       "      <th>2</th>\n",
       "      <td>0.187381</td>\n",
       "      <td>-0.982287</td>\n",
       "      <td>-0.184062</td>\n",
       "      <td>0.180802</td>\n",
       "    </tr>\n",
       "    <tr>\n",
       "      <th>3</th>\n",
       "      <td>0.309017</td>\n",
       "      <td>0.951057</td>\n",
       "      <td>0.293893</td>\n",
       "      <td>0.279508</td>\n",
       "    </tr>\n",
       "    <tr>\n",
       "      <th>4</th>\n",
       "      <td>-0.247214</td>\n",
       "      <td>0.760845</td>\n",
       "      <td>-0.188091</td>\n",
       "      <td>-0.143108</td>\n",
       "    </tr>\n",
       "    <tr>\n",
       "      <th>...</th>\n",
       "      <td>...</td>\n",
       "      <td>...</td>\n",
       "      <td>...</td>\n",
       "      <td>...</td>\n",
       "    </tr>\n",
       "    <tr>\n",
       "      <th>95</th>\n",
       "      <td>0.149905</td>\n",
       "      <td>-0.785830</td>\n",
       "      <td>-0.117800</td>\n",
       "      <td>0.092571</td>\n",
       "    </tr>\n",
       "    <tr>\n",
       "      <th>96</th>\n",
       "      <td>-0.247214</td>\n",
       "      <td>-0.760845</td>\n",
       "      <td>0.188091</td>\n",
       "      <td>-0.143108</td>\n",
       "    </tr>\n",
       "    <tr>\n",
       "      <th>97</th>\n",
       "      <td>0.992115</td>\n",
       "      <td>0.125333</td>\n",
       "      <td>0.124345</td>\n",
       "      <td>0.015585</td>\n",
       "    </tr>\n",
       "    <tr>\n",
       "      <th>98</th>\n",
       "      <td>-0.062791</td>\n",
       "      <td>-0.998027</td>\n",
       "      <td>0.062667</td>\n",
       "      <td>-0.062543</td>\n",
       "    </tr>\n",
       "    <tr>\n",
       "      <th>99</th>\n",
       "      <td>-0.583175</td>\n",
       "      <td>-0.547638</td>\n",
       "      <td>0.319369</td>\n",
       "      <td>-0.174898</td>\n",
       "    </tr>\n",
       "  </tbody>\n",
       "</table>\n",
       "<p>100 rows × 4 columns</p>\n",
       "</div>"
      ],
      "text/plain": [
       "           0         1  col_processed_0  col_processed_1\n",
       "0  -0.583175  0.547638        -0.319369        -0.174898\n",
       "1  -0.050232  0.798421        -0.040107        -0.032022\n",
       "2   0.187381 -0.982287        -0.184062         0.180802\n",
       "3   0.309017  0.951057         0.293893         0.279508\n",
       "4  -0.247214  0.760845        -0.188091        -0.143108\n",
       "..       ...       ...              ...              ...\n",
       "95  0.149905 -0.785830        -0.117800         0.092571\n",
       "96 -0.247214 -0.760845         0.188091        -0.143108\n",
       "97  0.992115  0.125333         0.124345         0.015585\n",
       "98 -0.062791 -0.998027         0.062667        -0.062543\n",
       "99 -0.583175 -0.547638         0.319369        -0.174898\n",
       "\n",
       "[100 rows x 4 columns]"
      ]
     },
     "execution_count": 70,
     "metadata": {},
     "output_type": "execute_result"
    }
   ],
   "source": [
    "df"
   ]
  },
  {
   "cell_type": "code",
   "execution_count": 104,
   "id": "94b7e0a8",
   "metadata": {},
   "outputs": [],
   "source": [
    "#NUMPY\n",
    "XB = X.copy()"
   ]
  },
  {
   "cell_type": "code",
   "execution_count": 96,
   "id": "ebc2e01b",
   "metadata": {},
   "outputs": [
    {
     "data": {
      "text/plain": [
       "2"
      ]
     },
     "execution_count": 96,
     "metadata": {},
     "output_type": "execute_result"
    }
   ],
   "source": [
    "X.shape[1]"
   ]
  },
  {
   "cell_type": "code",
   "execution_count": 105,
   "id": "fa21b333",
   "metadata": {},
   "outputs": [
    {
     "name": "stdout",
     "output_type": "stream",
     "text": [
      "0 1\n",
      "1 0\n"
     ]
    }
   ],
   "source": [
    "M, N = X.shape\n",
    "for i in range(N):\n",
    "    for j in range(N):\n",
    "        if(i == j):\n",
    "            continue\n",
    "        print(i, j)\n",
    "        #print(\"DIM \", XB, \"  \", X[:,i].shape, \"  \", X[:,j].shape)\n",
    "        XB = np.hstack([XB, X[:,i].reshape(-1,1) *  X[:,j].reshape(-1,1)])"
   ]
  },
  {
   "cell_type": "code",
   "execution_count": 106,
   "id": "2fd8fb78",
   "metadata": {},
   "outputs": [
    {
     "data": {
      "text/plain": [
       "(100, 4)"
      ]
     },
     "execution_count": 106,
     "metadata": {},
     "output_type": "execute_result"
    }
   ],
   "source": [
    "XB.shape"
   ]
  },
  {
   "cell_type": "code",
   "execution_count": 107,
   "id": "f58508d0",
   "metadata": {},
   "outputs": [
    {
     "data": {
      "text/plain": [
       "array([[-5.83174902e-01,  5.47637685e-01, -3.19368553e-01,\n",
       "        -3.19368553e-01],\n",
       "       [-5.02324156e-02,  7.98421383e-01, -4.01066347e-02,\n",
       "        -4.01066347e-02],\n",
       "       [ 1.87381315e-01, -9.82287251e-01, -1.84062276e-01,\n",
       "        -1.84062276e-01],\n",
       "       [ 3.09016994e-01,  9.51056516e-01,  2.93892626e-01,\n",
       "         2.93892626e-01],\n",
       "       [-2.47213595e-01,  7.60845213e-01, -1.88091281e-01,\n",
       "        -1.88091281e-01],\n",
       "       [-7.93691761e-01, -1.00266587e-01,  7.95807639e-02,\n",
       "         7.95807639e-02],\n",
       "       [-5.35826795e-01, -8.44327926e-01,  4.52413526e-01,\n",
       "         4.52413526e-01],\n",
       "       [ 9.92114701e-01, -1.25333234e-01, -1.24344944e-01,\n",
       "        -1.24344944e-01],\n",
       "       [ 8.76306680e-01,  4.81753674e-01,  4.22163963e-01,\n",
       "         4.22163963e-01],\n",
       "       [ 5.02324156e-02,  7.98421383e-01,  4.01066347e-02,\n",
       "         4.01066347e-02],\n",
       "       [-5.02324156e-02, -7.98421383e-01,  4.01066347e-02,\n",
       "         4.01066347e-02],\n",
       "       [-7.43821189e-01, -2.94499642e-01,  2.19055074e-01,\n",
       "         2.19055074e-01],\n",
       "       [-7.93691761e-01,  1.00266587e-01, -7.95807639e-02,\n",
       "        -7.95807639e-02],\n",
       "       [-8.09016994e-01,  5.87785252e-01, -4.75528258e-01,\n",
       "        -4.75528258e-01],\n",
       "       [-8.00000000e-01, -2.57299624e-16,  2.05839699e-16,\n",
       "         2.05839699e-16],\n",
       "       [-7.74866529e-01, -1.98951910e-01,  1.54161176e-01,\n",
       "         1.54161176e-01],\n",
       "       [ 3.09016994e-01, -9.51056516e-01, -2.93892626e-01,\n",
       "        -2.93892626e-01],\n",
       "       [ 7.93691761e-01,  1.00266587e-01,  7.95807639e-02,\n",
       "         7.95807639e-02],\n",
       "       [-6.47213595e-01,  4.70228202e-01, -3.04338085e-01,\n",
       "        -3.04338085e-01],\n",
       "       [ 9.68583161e-01, -2.48689887e-01, -2.40876837e-01,\n",
       "        -2.40876837e-01],\n",
       "       [ 5.83174902e-01, -5.47637685e-01, -3.19368553e-01,\n",
       "        -3.19368553e-01],\n",
       "       [ 8.09016994e-01,  5.87785252e-01,  4.75528258e-01,\n",
       "         4.75528258e-01],\n",
       "       [ 6.47213595e-01,  4.70228202e-01,  3.04338085e-01,\n",
       "         3.04338085e-01],\n",
       "       [-8.76306680e-01, -4.81753674e-01,  4.22163963e-01,\n",
       "         4.22163963e-01],\n",
       "       [ 5.02324156e-02, -7.98421383e-01, -4.01066347e-02,\n",
       "        -4.01066347e-02],\n",
       "       [-9.68583161e-01,  2.48689887e-01, -2.40876837e-01,\n",
       "        -2.40876837e-01],\n",
       "       [-9.68583161e-01, -2.48689887e-01,  2.40876837e-01,\n",
       "         2.40876837e-01],\n",
       "       [ 7.01045344e-01,  3.85402939e-01,  2.70184936e-01,\n",
       "         2.70184936e-01],\n",
       "       [-9.92114701e-01,  1.25333234e-01, -1.24344944e-01,\n",
       "        -1.24344944e-01],\n",
       "       [ 6.37423990e-01, -7.70513243e-01, -4.91143625e-01,\n",
       "        -4.91143625e-01],\n",
       "       [ 5.35826795e-01,  8.44327926e-01,  4.52413526e-01,\n",
       "         4.52413526e-01],\n",
       "       [-5.09939192e-01,  6.16410594e-01, -3.14331920e-01,\n",
       "        -3.14331920e-01],\n",
       "       [-3.40623433e-01, -7.23861642e-01,  2.46564238e-01,\n",
       "         2.46564238e-01],\n",
       "       [-3.40623433e-01,  7.23861642e-01, -2.46564238e-01,\n",
       "        -2.46564238e-01],\n",
       "       [ 5.09939192e-01,  6.16410594e-01,  3.14331920e-01,\n",
       "         3.14331920e-01],\n",
       "       [-1.00000000e+00, -3.21624530e-16,  3.21624530e-16,\n",
       "         3.21624530e-16],\n",
       "       [-6.37423990e-01,  7.70513243e-01, -4.91143625e-01,\n",
       "        -4.91143625e-01],\n",
       "       [-5.35826795e-01,  8.44327926e-01, -4.52413526e-01,\n",
       "        -4.52413526e-01],\n",
       "       [-9.29776486e-01, -3.68124553e-01,  3.42273553e-01,\n",
       "         3.42273553e-01],\n",
       "       [-3.09016994e-01,  9.51056516e-01, -2.93892626e-01,\n",
       "        -2.93892626e-01],\n",
       "       [ 1.49905052e-01,  7.85829801e-01,  1.17799857e-01,\n",
       "         1.17799857e-01],\n",
       "       [ 4.25779292e-01,  9.04827052e-01,  3.85256621e-01,\n",
       "         3.85256621e-01],\n",
       "       [-7.28968627e-01, -6.84547106e-01,  4.99013364e-01,\n",
       "         4.99013364e-01],\n",
       "       [ 3.40623433e-01,  7.23861642e-01,  2.46564238e-01,\n",
       "         2.46564238e-01],\n",
       "       [ 8.09016994e-01, -5.87785252e-01, -4.75528258e-01,\n",
       "        -4.75528258e-01],\n",
       "       [-6.27905195e-02,  9.98026728e-01, -6.26666168e-02,\n",
       "        -6.26666168e-02],\n",
       "       [ 7.43821189e-01, -2.94499642e-01, -2.19055074e-01,\n",
       "        -2.19055074e-01],\n",
       "       [ 9.68583161e-01,  2.48689887e-01,  2.40876837e-01,\n",
       "         2.40876837e-01],\n",
       "       [ 7.28968627e-01,  6.84547106e-01,  4.99013364e-01,\n",
       "         4.99013364e-01],\n",
       "       [ 5.83174902e-01,  5.47637685e-01,  3.19368553e-01,\n",
       "         3.19368553e-01],\n",
       "       [ 6.27905195e-02, -9.98026728e-01, -6.26666168e-02,\n",
       "        -6.26666168e-02],\n",
       "       [ 1.87381315e-01,  9.82287251e-01,  1.84062276e-01,\n",
       "         1.84062276e-01],\n",
       "       [-4.25779292e-01,  9.04827052e-01, -3.85256621e-01,\n",
       "        -3.85256621e-01],\n",
       "       [-7.43821189e-01,  2.94499642e-01, -2.19055074e-01,\n",
       "        -2.19055074e-01],\n",
       "       [-9.29776486e-01,  3.68124553e-01, -3.42273553e-01,\n",
       "        -3.42273553e-01],\n",
       "       [-6.37423990e-01, -7.70513243e-01,  4.91143625e-01,\n",
       "         4.91143625e-01],\n",
       "       [ 7.28968627e-01, -6.84547106e-01, -4.99013364e-01,\n",
       "        -4.99013364e-01],\n",
       "       [-7.01045344e-01, -3.85402939e-01,  2.70184936e-01,\n",
       "         2.70184936e-01],\n",
       "       [-1.49905052e-01, -7.85829801e-01,  1.17799857e-01,\n",
       "         1.17799857e-01],\n",
       "       [-3.09016994e-01, -9.51056516e-01,  2.93892626e-01,\n",
       "         2.93892626e-01],\n",
       "       [ 4.25779292e-01, -9.04827052e-01, -3.85256621e-01,\n",
       "        -3.85256621e-01],\n",
       "       [-1.87381315e-01, -9.82287251e-01,  1.84062276e-01,\n",
       "         1.84062276e-01],\n",
       "       [ 8.00000000e-01,  0.00000000e+00,  0.00000000e+00,\n",
       "         0.00000000e+00],\n",
       "       [-1.49905052e-01,  7.85829801e-01, -1.17799857e-01,\n",
       "        -1.17799857e-01],\n",
       "       [-6.47213595e-01, -4.70228202e-01,  3.04338085e-01,\n",
       "         3.04338085e-01],\n",
       "       [-1.87381315e-01,  9.82287251e-01, -1.84062276e-01,\n",
       "        -1.84062276e-01],\n",
       "       [ 5.35826795e-01, -8.44327926e-01, -4.52413526e-01,\n",
       "        -4.52413526e-01],\n",
       "       [ 9.29776486e-01,  3.68124553e-01,  3.42273553e-01,\n",
       "         3.42273553e-01],\n",
       "       [ 2.47213595e-01,  7.60845213e-01,  1.88091281e-01,\n",
       "         1.88091281e-01],\n",
       "       [ 9.29776486e-01, -3.68124553e-01, -3.42273553e-01,\n",
       "        -3.42273553e-01],\n",
       "       [-4.28661436e-01,  6.75462340e-01, -2.89544657e-01,\n",
       "        -2.89544657e-01],\n",
       "       [ 4.28661436e-01, -6.75462340e-01, -2.89544657e-01,\n",
       "        -2.89544657e-01],\n",
       "       [ 2.47213595e-01, -7.60845213e-01, -1.88091281e-01,\n",
       "        -1.88091281e-01],\n",
       "       [-7.74866529e-01,  1.98951910e-01, -1.54161176e-01,\n",
       "        -1.54161176e-01],\n",
       "       [ 3.40623433e-01, -7.23861642e-01, -2.46564238e-01,\n",
       "        -2.46564238e-01],\n",
       "       [ 1.00000000e+00,  0.00000000e+00,  0.00000000e+00,\n",
       "         0.00000000e+00],\n",
       "       [-5.09939192e-01, -6.16410594e-01,  3.14331920e-01,\n",
       "         3.14331920e-01],\n",
       "       [ 7.01045344e-01, -3.85402939e-01, -2.70184936e-01,\n",
       "        -2.70184936e-01],\n",
       "       [ 7.74866529e-01,  1.98951910e-01,  1.54161176e-01,\n",
       "         1.54161176e-01],\n",
       "       [ 7.43821189e-01,  2.94499642e-01,  2.19055074e-01,\n",
       "         2.19055074e-01],\n",
       "       [-7.28968627e-01,  6.84547106e-01, -4.99013364e-01,\n",
       "        -4.99013364e-01],\n",
       "       [-7.01045344e-01,  3.85402939e-01, -2.70184936e-01,\n",
       "        -2.70184936e-01],\n",
       "       [-8.09016994e-01, -5.87785252e-01,  4.75528258e-01,\n",
       "         4.75528258e-01],\n",
       "       [-4.28661436e-01, -6.75462340e-01,  2.89544657e-01,\n",
       "         2.89544657e-01],\n",
       "       [ 6.47213595e-01, -4.70228202e-01, -3.04338085e-01,\n",
       "        -3.04338085e-01],\n",
       "       [-4.25779292e-01, -9.04827052e-01,  3.85256621e-01,\n",
       "         3.85256621e-01],\n",
       "       [-9.92114701e-01, -1.25333234e-01,  1.24344944e-01,\n",
       "         1.24344944e-01],\n",
       "       [ 8.76306680e-01, -4.81753674e-01, -4.22163963e-01,\n",
       "        -4.22163963e-01],\n",
       "       [ 4.28661436e-01,  6.75462340e-01,  2.89544657e-01,\n",
       "         2.89544657e-01],\n",
       "       [ 6.27905195e-02,  9.98026728e-01,  6.26666168e-02,\n",
       "         6.26666168e-02],\n",
       "       [-8.76306680e-01,  4.81753674e-01, -4.22163963e-01,\n",
       "        -4.22163963e-01],\n",
       "       [ 5.09939192e-01, -6.16410594e-01, -3.14331920e-01,\n",
       "        -3.14331920e-01],\n",
       "       [ 7.74866529e-01, -1.98951910e-01, -1.54161176e-01,\n",
       "        -1.54161176e-01],\n",
       "       [ 7.93691761e-01, -1.00266587e-01, -7.95807639e-02,\n",
       "        -7.95807639e-02],\n",
       "       [ 6.37423990e-01,  7.70513243e-01,  4.91143625e-01,\n",
       "         4.91143625e-01],\n",
       "       [ 1.49905052e-01, -7.85829801e-01, -1.17799857e-01,\n",
       "        -1.17799857e-01],\n",
       "       [-2.47213595e-01, -7.60845213e-01,  1.88091281e-01,\n",
       "         1.88091281e-01],\n",
       "       [ 9.92114701e-01,  1.25333234e-01,  1.24344944e-01,\n",
       "         1.24344944e-01],\n",
       "       [-6.27905195e-02, -9.98026728e-01,  6.26666168e-02,\n",
       "         6.26666168e-02],\n",
       "       [-5.83174902e-01, -5.47637685e-01,  3.19368553e-01,\n",
       "         3.19368553e-01]])"
      ]
     },
     "execution_count": 107,
     "metadata": {},
     "output_type": "execute_result"
    }
   ],
   "source": [
    "XB"
   ]
  },
  {
   "cell_type": "code",
   "execution_count": 108,
   "id": "6f15f07f",
   "metadata": {},
   "outputs": [
    {
     "data": {
      "text/plain": [
       "(100, 4)"
      ]
     },
     "execution_count": 108,
     "metadata": {},
     "output_type": "execute_result"
    }
   ],
   "source": [
    "XBDF = pd.DataFrame(XB)\n",
    "XBDF.shape"
   ]
  },
  {
   "cell_type": "code",
   "execution_count": 109,
   "id": "b0305fda",
   "metadata": {},
   "outputs": [
    {
     "data": {
      "text/html": [
       "<div>\n",
       "<style scoped>\n",
       "    .dataframe tbody tr th:only-of-type {\n",
       "        vertical-align: middle;\n",
       "    }\n",
       "\n",
       "    .dataframe tbody tr th {\n",
       "        vertical-align: top;\n",
       "    }\n",
       "\n",
       "    .dataframe thead th {\n",
       "        text-align: right;\n",
       "    }\n",
       "</style>\n",
       "<table border=\"1\" class=\"dataframe\">\n",
       "  <thead>\n",
       "    <tr style=\"text-align: right;\">\n",
       "      <th></th>\n",
       "      <th>0</th>\n",
       "      <th>1</th>\n",
       "      <th>2</th>\n",
       "      <th>3</th>\n",
       "    </tr>\n",
       "  </thead>\n",
       "  <tbody>\n",
       "    <tr>\n",
       "      <th>0</th>\n",
       "      <td>-0.583175</td>\n",
       "      <td>0.547638</td>\n",
       "      <td>-0.319369</td>\n",
       "      <td>-0.319369</td>\n",
       "    </tr>\n",
       "    <tr>\n",
       "      <th>1</th>\n",
       "      <td>-0.050232</td>\n",
       "      <td>0.798421</td>\n",
       "      <td>-0.040107</td>\n",
       "      <td>-0.040107</td>\n",
       "    </tr>\n",
       "    <tr>\n",
       "      <th>2</th>\n",
       "      <td>0.187381</td>\n",
       "      <td>-0.982287</td>\n",
       "      <td>-0.184062</td>\n",
       "      <td>-0.184062</td>\n",
       "    </tr>\n",
       "    <tr>\n",
       "      <th>3</th>\n",
       "      <td>0.309017</td>\n",
       "      <td>0.951057</td>\n",
       "      <td>0.293893</td>\n",
       "      <td>0.293893</td>\n",
       "    </tr>\n",
       "    <tr>\n",
       "      <th>4</th>\n",
       "      <td>-0.247214</td>\n",
       "      <td>0.760845</td>\n",
       "      <td>-0.188091</td>\n",
       "      <td>-0.188091</td>\n",
       "    </tr>\n",
       "    <tr>\n",
       "      <th>...</th>\n",
       "      <td>...</td>\n",
       "      <td>...</td>\n",
       "      <td>...</td>\n",
       "      <td>...</td>\n",
       "    </tr>\n",
       "    <tr>\n",
       "      <th>95</th>\n",
       "      <td>0.149905</td>\n",
       "      <td>-0.785830</td>\n",
       "      <td>-0.117800</td>\n",
       "      <td>-0.117800</td>\n",
       "    </tr>\n",
       "    <tr>\n",
       "      <th>96</th>\n",
       "      <td>-0.247214</td>\n",
       "      <td>-0.760845</td>\n",
       "      <td>0.188091</td>\n",
       "      <td>0.188091</td>\n",
       "    </tr>\n",
       "    <tr>\n",
       "      <th>97</th>\n",
       "      <td>0.992115</td>\n",
       "      <td>0.125333</td>\n",
       "      <td>0.124345</td>\n",
       "      <td>0.124345</td>\n",
       "    </tr>\n",
       "    <tr>\n",
       "      <th>98</th>\n",
       "      <td>-0.062791</td>\n",
       "      <td>-0.998027</td>\n",
       "      <td>0.062667</td>\n",
       "      <td>0.062667</td>\n",
       "    </tr>\n",
       "    <tr>\n",
       "      <th>99</th>\n",
       "      <td>-0.583175</td>\n",
       "      <td>-0.547638</td>\n",
       "      <td>0.319369</td>\n",
       "      <td>0.319369</td>\n",
       "    </tr>\n",
       "  </tbody>\n",
       "</table>\n",
       "<p>100 rows × 4 columns</p>\n",
       "</div>"
      ],
      "text/plain": [
       "           0         1         2         3\n",
       "0  -0.583175  0.547638 -0.319369 -0.319369\n",
       "1  -0.050232  0.798421 -0.040107 -0.040107\n",
       "2   0.187381 -0.982287 -0.184062 -0.184062\n",
       "3   0.309017  0.951057  0.293893  0.293893\n",
       "4  -0.247214  0.760845 -0.188091 -0.188091\n",
       "..       ...       ...       ...       ...\n",
       "95  0.149905 -0.785830 -0.117800 -0.117800\n",
       "96 -0.247214 -0.760845  0.188091  0.188091\n",
       "97  0.992115  0.125333  0.124345  0.124345\n",
       "98 -0.062791 -0.998027  0.062667  0.062667\n",
       "99 -0.583175 -0.547638  0.319369  0.319369\n",
       "\n",
       "[100 rows x 4 columns]"
      ]
     },
     "execution_count": 109,
     "metadata": {},
     "output_type": "execute_result"
    }
   ],
   "source": [
    "XBDF"
   ]
  },
  {
   "cell_type": "markdown",
   "id": "a61a48f4",
   "metadata": {},
   "source": [
    "## TP/FP/TN/FN, preicison, recall, f1_score\n"
   ]
  },
  {
   "cell_type": "code",
   "execution_count": 72,
   "id": "d03ab235",
   "metadata": {},
   "outputs": [],
   "source": [
    "y_hat = model.predict(X)"
   ]
  },
  {
   "cell_type": "code",
   "execution_count": 73,
   "id": "b3652066",
   "metadata": {},
   "outputs": [
    {
     "data": {
      "text/plain": [
       "array([0, 0, 0, 0, 0, 0, 0, 0, 0, 0, 0, 0, 0, 0, 0, 0, 0, 0, 0, 0, 0, 0,\n",
       "       0, 0, 0, 0, 0, 0, 0, 0, 0, 0, 0, 0, 0, 0, 0, 0, 0, 0, 0, 0, 0, 0,\n",
       "       0, 0, 0, 0, 0, 0, 0, 0, 0, 0, 0, 0, 0, 0, 0, 0, 0, 0, 0, 0, 0, 0,\n",
       "       0, 0, 0, 0, 0, 0, 0, 0, 0, 0, 0, 0, 0, 0, 0, 0, 0, 0, 0, 0, 0, 0,\n",
       "       0, 0, 0, 0, 0, 0, 0, 0, 0, 0, 0, 0])"
      ]
     },
     "execution_count": 73,
     "metadata": {},
     "output_type": "execute_result"
    }
   ],
   "source": [
    "y_hat"
   ]
  },
  {
   "cell_type": "code",
   "execution_count": 74,
   "id": "9f2e8233",
   "metadata": {},
   "outputs": [],
   "source": [
    "total = y_hat.shape[0]"
   ]
  },
  {
   "cell_type": "code",
   "execution_count": 75,
   "id": "3ed51474",
   "metadata": {},
   "outputs": [],
   "source": [
    "def confusion_matrix(y, y_hat):\n",
    "    total = y.shape[0]\n",
    "    # here 0 is positive, usually 0 is taken as negative\n",
    "    TP = 0\n",
    "    FP = 0\n",
    "    TN = 0\n",
    "    FN = 0\n",
    "    \n",
    "    for i in range(total):\n",
    "        if(y[i] == 0):\n",
    "            if(y_hat[i] == 0):\n",
    "                TP += 1\n",
    "            else:\n",
    "                FN += 1\n",
    "        else:\n",
    "            if(y_hat[i] == 1):\n",
    "                TN += 1\n",
    "            else:\n",
    "                FP += 1\n",
    "\n",
    "    \n",
    "    return TP, FP, TN, FN\n"
   ]
  },
  {
   "cell_type": "code",
   "execution_count": 76,
   "id": "7732a5c0",
   "metadata": {},
   "outputs": [
    {
     "name": "stdout",
     "output_type": "stream",
     "text": [
      "TP =  50 TN =  0\n",
      "FP =  50 FN =  0\n"
     ]
    }
   ],
   "source": [
    "TP, FP, TN, FN = confusion_matrix(y, y_hat)\n",
    "\n",
    "print(\"TP = \", TP, \"TN = \", TN)\n",
    "print(\"FP = \", FP, \"FN = \", FN)"
   ]
  },
  {
   "cell_type": "code",
   "execution_count": 91,
   "id": "f6ba50c6",
   "metadata": {},
   "outputs": [
    {
     "data": {
      "text/plain": [
       "array([[50,  0],\n",
       "       [50,  0]])"
      ]
     },
     "execution_count": 91,
     "metadata": {},
     "output_type": "execute_result"
    }
   ],
   "source": [
    "from sklearn.metrics import confusion_matrix, accuracy_score # .ravel() makes everything a one single long vector\n",
    "confusion_matrix(y, y_hat)"
   ]
  },
  {
   "cell_type": "code",
   "execution_count": 78,
   "id": "b5889120",
   "metadata": {},
   "outputs": [],
   "source": [
    "vec = confusion_matrix(y, y_hat)"
   ]
  },
  {
   "cell_type": "code",
   "execution_count": 79,
   "id": "f508624f",
   "metadata": {},
   "outputs": [
    {
     "data": {
      "text/plain": [
       "array([50,  0, 50,  0])"
      ]
     },
     "execution_count": 79,
     "metadata": {},
     "output_type": "execute_result"
    }
   ],
   "source": [
    "vec.ravel()"
   ]
  },
  {
   "cell_type": "code",
   "execution_count": 92,
   "id": "50e148d5",
   "metadata": {},
   "outputs": [
    {
     "data": {
      "text/plain": [
       "0.5"
      ]
     },
     "execution_count": 92,
     "metadata": {},
     "output_type": "execute_result"
    }
   ],
   "source": [
    "accuracy = (TP+TN)/(TP+TN+FP+FN)\n",
    "accuracy"
   ]
  },
  {
   "cell_type": "code",
   "execution_count": 93,
   "id": "d8c121aa",
   "metadata": {},
   "outputs": [
    {
     "data": {
      "text/plain": [
       "0.5"
      ]
     },
     "execution_count": 93,
     "metadata": {},
     "output_type": "execute_result"
    }
   ],
   "source": [
    "accuracy = accuracy_score(y, y_hat)\n",
    "accuracy"
   ]
  },
  {
   "cell_type": "code",
   "execution_count": 80,
   "id": "cfbf8c0e",
   "metadata": {},
   "outputs": [
    {
     "data": {
      "text/plain": [
       "0.5"
      ]
     },
     "execution_count": 80,
     "metadata": {},
     "output_type": "execute_result"
    }
   ],
   "source": [
    "precision = (TP)/(TP+FP) \n",
    "precision"
   ]
  },
  {
   "cell_type": "code",
   "execution_count": 81,
   "id": "100c2288",
   "metadata": {},
   "outputs": [
    {
     "data": {
      "text/plain": [
       "1.0"
      ]
     },
     "execution_count": 81,
     "metadata": {},
     "output_type": "execute_result"
    }
   ],
   "source": [
    "recall = (TP) / (TP+FN)\n",
    "recall"
   ]
  },
  {
   "cell_type": "code",
   "execution_count": 82,
   "id": "e46c1f7e",
   "metadata": {},
   "outputs": [
    {
     "data": {
      "text/plain": [
       "0.6666666666666666"
      ]
     },
     "execution_count": 82,
     "metadata": {},
     "output_type": "execute_result"
    }
   ],
   "source": [
    "F1_Score = (2 * precision * recall)/(precision + recall)\n",
    "F1_Score"
   ]
  },
  {
   "cell_type": "code",
   "execution_count": 83,
   "id": "ead8568f",
   "metadata": {},
   "outputs": [],
   "source": [
    "from sklearn.metrics import precision_score, recall_score, f1_score"
   ]
  },
  {
   "cell_type": "code",
   "execution_count": 84,
   "id": "6c47fd60",
   "metadata": {},
   "outputs": [
    {
     "name": "stderr",
     "output_type": "stream",
     "text": [
      "/Library/Frameworks/Python.framework/Versions/3.10/lib/python3.10/site-packages/sklearn/metrics/_classification.py:1334: UndefinedMetricWarning: Precision is ill-defined and being set to 0.0 in labels with no predicted samples. Use `zero_division` parameter to control this behavior.\n",
      "  _warn_prf(average, modifier, msg_start, len(result))\n"
     ]
    },
    {
     "data": {
      "text/plain": [
       "0.5"
      ]
     },
     "execution_count": 84,
     "metadata": {},
     "output_type": "execute_result"
    }
   ],
   "source": [
    "precision_score(y, y_hat, average=None)[0]"
   ]
  },
  {
   "cell_type": "code",
   "execution_count": 85,
   "id": "01fbf4db",
   "metadata": {},
   "outputs": [
    {
     "data": {
      "text/plain": [
       "1.0"
      ]
     },
     "execution_count": 85,
     "metadata": {},
     "output_type": "execute_result"
    }
   ],
   "source": [
    "recall_score(y, y_hat, average=None)[0]"
   ]
  },
  {
   "cell_type": "code",
   "execution_count": 86,
   "id": "729fd27c",
   "metadata": {},
   "outputs": [
    {
     "data": {
      "text/plain": [
       "0.6666666666666666"
      ]
     },
     "execution_count": 86,
     "metadata": {},
     "output_type": "execute_result"
    }
   ],
   "source": [
    "f1_score(y, y_hat, average=None)[0]"
   ]
  },
  {
   "cell_type": "markdown",
   "id": "8cf4f388",
   "metadata": {},
   "source": [
    "## matthews correlation coefficient"
   ]
  },
  {
   "cell_type": "code",
   "execution_count": 88,
   "id": "44d8cde6",
   "metadata": {},
   "outputs": [],
   "source": [
    "MCC = (TP * TN - FP*FN)/ ((TP+FP) * (TP+FN) * (FN+TP) * (TN+FN) + 0.1)"
   ]
  },
  {
   "cell_type": "code",
   "execution_count": 90,
   "id": "a3e85ac8",
   "metadata": {},
   "outputs": [
    {
     "data": {
      "text/plain": [
       "0.0"
      ]
     },
     "execution_count": 90,
     "metadata": {},
     "output_type": "execute_result"
    }
   ],
   "source": [
    "MCC"
   ]
  },
  {
   "cell_type": "code",
   "execution_count": null,
   "id": "72f56ed4",
   "metadata": {},
   "outputs": [],
   "source": []
  }
 ],
 "metadata": {
  "kernelspec": {
   "display_name": "Python 3 (ipykernel)",
   "language": "python",
   "name": "python3"
  },
  "language_info": {
   "codemirror_mode": {
    "name": "ipython",
    "version": 3
   },
   "file_extension": ".py",
   "mimetype": "text/x-python",
   "name": "python",
   "nbconvert_exporter": "python",
   "pygments_lexer": "ipython3",
   "version": "3.10.7"
  }
 },
 "nbformat": 4,
 "nbformat_minor": 5
}
