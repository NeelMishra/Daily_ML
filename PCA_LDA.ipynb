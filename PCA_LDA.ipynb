{
 "cells": [
  {
   "cell_type": "code",
   "execution_count": 8,
   "id": "ab0878d6",
   "metadata": {},
   "outputs": [],
   "source": [
    "import numpy as np"
   ]
  },
  {
   "cell_type": "code",
   "execution_count": null,
   "id": "e133226f",
   "metadata": {},
   "outputs": [],
   "source": []
  },
  {
   "cell_type": "markdown",
   "id": "b7b84719",
   "metadata": {},
   "source": [
    "# LDA"
   ]
  },
  {
   "cell_type": "markdown",
   "id": "47f856c6",
   "metadata": {},
   "source": [
    "## Example two class, toy examples"
   ]
  },
  {
   "cell_type": "code",
   "execution_count": 9,
   "id": "cd597666",
   "metadata": {},
   "outputs": [],
   "source": [
    "# Calculate the mean matrices first\n",
    "\n",
    "X1 = np.array([[4,1],[2,4],[2,3],[3,6],[4,4]])\n",
    "X2 = np.array([[9,10],[6,8],[9,5],[8,7],[10,8]])"
   ]
  },
  {
   "cell_type": "markdown",
   "id": "653c9699",
   "metadata": {},
   "source": [
    "### Plot the original data"
   ]
  },
  {
   "cell_type": "code",
   "execution_count": 10,
   "id": "4437feaf",
   "metadata": {},
   "outputs": [
    {
     "data": {
      "text/plain": [
       "Text(0, 0.5, 'x2')"
      ]
     },
     "execution_count": 10,
     "metadata": {},
     "output_type": "execute_result"
    },
    {
     "data": {
      "image/png": "[encoded data removed]",
      "text/plain": [
       "<Figure size 640x480 with 1 Axes>"
      ]
     },
     "metadata": {},
     "output_type": "display_data"
    }
   ],
   "source": [
    "import matplotlib.pyplot as plt\n",
    "\n",
    "plt.scatter(X1[:,0],X1[:,1], marker ='o')\n",
    "plt.scatter(X2[:,0], X2[:,1], marker = 's')\n",
    "plt.xlabel(\"x1\")\n",
    "plt.ylabel('x2')"
   ]
  },
  {
   "cell_type": "markdown",
   "id": "f7489616",
   "metadata": {},
   "source": [
    "### Numerical operations :  Getting the mean, and the covariance matrices within a class"
   ]
  },
  {
   "cell_type": "code",
   "execution_count": 11,
   "id": "9072aae5",
   "metadata": {},
   "outputs": [
    {
     "data": {
      "text/plain": [
       "(array([3. , 3.6]), array([8.4, 7.6]))"
      ]
     },
     "execution_count": 11,
     "metadata": {},
     "output_type": "execute_result"
    }
   ],
   "source": [
    "u_1 = X1.mean(axis=0)\n",
    "u_2 = X2.mean(axis=0)\n",
    "u_1, u_2"
   ]
  },
  {
   "cell_type": "code",
   "execution_count": 12,
   "id": "9b0b48f6",
   "metadata": {},
   "outputs": [
    {
     "data": {
      "text/plain": [
       "array([[ 1. , -2.6],\n",
       "       [-1. ,  0.4],\n",
       "       [-1. , -0.6],\n",
       "       [ 0. ,  2.4],\n",
       "       [ 1. ,  0.4]])"
      ]
     },
     "execution_count": 12,
     "metadata": {},
     "output_type": "execute_result"
    }
   ],
   "source": [
    "X1_u1 = X1 - u_1\n",
    "X1_u1"
   ]
  },
  {
   "cell_type": "code",
   "execution_count": 13,
   "id": "f4009d67",
   "metadata": {},
   "outputs": [
    {
     "data": {
      "text/plain": [
       "array([[ 0.6,  2.4],\n",
       "       [-2.4,  0.4],\n",
       "       [ 0.6, -2.6],\n",
       "       [-0.4, -0.6],\n",
       "       [ 1.6,  0.4]])"
      ]
     },
     "execution_count": 13,
     "metadata": {},
     "output_type": "execute_result"
    }
   ],
   "source": [
    "X2_u2 = X2 - u_2\n",
    "X2_u2"
   ]
  },
  {
   "cell_type": "code",
   "execution_count": 14,
   "id": "2dbb5de9",
   "metadata": {},
   "outputs": [
    {
     "data": {
      "text/plain": [
       "(5, 5)"
      ]
     },
     "execution_count": 14,
     "metadata": {},
     "output_type": "execute_result"
    }
   ],
   "source": [
    "N1 = X1_u1.shape[0]\n",
    "N2 = X2_u2.shape[0]\n",
    "N1,N2"
   ]
  },
  {
   "cell_type": "code",
   "execution_count": 15,
   "id": "d90375c2",
   "metadata": {},
   "outputs": [
    {
     "data": {
      "text/plain": [
       "array([[ 0.8 , -0.4 ],\n",
       "       [-0.4 ,  2.64]])"
      ]
     },
     "execution_count": 15,
     "metadata": {},
     "output_type": "execute_result"
    }
   ],
   "source": [
    "S1 = 0\n",
    "for i in range(N1):\n",
    "    S1 += X1_u1[i,:].reshape(2,-1) @ X1_u1[i,:].reshape(-1,2)\n",
    "S1 = S1/N1\n",
    "S1"
   ]
  },
  {
   "cell_type": "code",
   "execution_count": 16,
   "id": "279a01a1",
   "metadata": {},
   "outputs": [
    {
     "data": {
      "text/plain": [
       "array([[ 0.8 , -0.4 ],\n",
       "       [-0.4 ,  2.64]])"
      ]
     },
     "execution_count": 16,
     "metadata": {},
     "output_type": "execute_result"
    }
   ],
   "source": [
    "S1 = X1_u1.T @ X1_u1 / N1\n",
    "S1 "
   ]
  },
  {
   "cell_type": "code",
   "execution_count": 17,
   "id": "b1f78919",
   "metadata": {},
   "outputs": [
    {
     "data": {
      "text/plain": [
       "array([[ 1.84, -0.04],\n",
       "       [-0.04,  2.64]])"
      ]
     },
     "execution_count": 17,
     "metadata": {},
     "output_type": "execute_result"
    }
   ],
   "source": [
    "S2 = X2_u2.T @ X2_u2 / N2\n",
    "S2"
   ]
  },
  {
   "cell_type": "code",
   "execution_count": 18,
   "id": "d5abf28e",
   "metadata": {},
   "outputs": [
    {
     "data": {
      "text/plain": [
       "(array([[ 2.64, -0.44],\n",
       "        [-0.44,  5.28]]),\n",
       " array([[29.16, 21.6 ],\n",
       "        [21.6 , 16.  ]]))"
      ]
     },
     "execution_count": 18,
     "metadata": {},
     "output_type": "execute_result"
    }
   ],
   "source": [
    "S_w = S1 + S2 # Inter class scatter\n",
    "S_b = (u_1 - u_2).reshape(2,-1) @ (u_1 - u_2).reshape(-1,2) # Between class scatter\n",
    "\n",
    "S_w, S_b"
   ]
  },
  {
   "cell_type": "markdown",
   "id": "ae4b2be5",
   "metadata": {},
   "source": [
    "### Numerical operations : Obtaining the eigen value, or just directly computing the optimal normal vector to the projection hyperplane"
   ]
  },
  {
   "cell_type": "code",
   "execution_count": 19,
   "id": "3da39576",
   "metadata": {},
   "outputs": [
    {
     "data": {
      "text/plain": [
       "array([[11.89244558,  8.80921895],\n",
       "       [ 5.08194622,  3.76440461]])"
      ]
     },
     "execution_count": 19,
     "metadata": {},
     "output_type": "execute_result"
    }
   ],
   "source": [
    "prod = np.linalg.inv(S_w) @ S_b\n",
    "prod"
   ]
  },
  {
   "cell_type": "code",
   "execution_count": 20,
   "id": "7e2589cb",
   "metadata": {},
   "outputs": [
    {
     "data": {
      "text/plain": [
       "array([ 1.56568502e+01, -2.02227279e-16])"
      ]
     },
     "execution_count": 20,
     "metadata": {},
     "output_type": "execute_result"
    }
   ],
   "source": [
    "eig_val, eig_vec = np.linalg.eig(prod)\n",
    "eig_val"
   ]
  },
  {
   "cell_type": "code",
   "execution_count": 21,
   "id": "338c3d5e",
   "metadata": {},
   "outputs": [
    {
     "data": {
      "text/plain": [
       "array([[ 0.91955932, -0.59522755],\n",
       "       [ 0.39295122,  0.80355719]])"
      ]
     },
     "execution_count": 21,
     "metadata": {},
     "output_type": "execute_result"
    }
   ],
   "source": [
    "eig_vec"
   ]
  },
  {
   "cell_type": "markdown",
   "id": "f9ee0195",
   "metadata": {},
   "source": [
    "### Take the eigen vector corresponding to the maximum eigen value"
   ]
  },
  {
   "cell_type": "code",
   "execution_count": 22,
   "id": "6c8be9a7",
   "metadata": {},
   "outputs": [
    {
     "data": {
      "text/plain": [
       "array([[ 0.91955932],\n",
       "       [-0.59522755]])"
      ]
     },
     "execution_count": 22,
     "metadata": {},
     "output_type": "execute_result"
    }
   ],
   "source": [
    "w_optimal = eig_vec[0].reshape(2,-1)\n",
    "w_optimal"
   ]
  },
  {
   "cell_type": "code",
   "execution_count": 23,
   "id": "82d136f9",
   "metadata": {},
   "outputs": [
    {
     "data": {
      "text/plain": [
       "((5, 2), (5, 2))"
      ]
     },
     "execution_count": 23,
     "metadata": {},
     "output_type": "execute_result"
    }
   ],
   "source": [
    "X1.shape, X2.shape"
   ]
  },
  {
   "cell_type": "code",
   "execution_count": 24,
   "id": "d13a1814",
   "metadata": {},
   "outputs": [
    {
     "data": {
      "text/plain": [
       "(2, 1)"
      ]
     },
     "execution_count": 24,
     "metadata": {},
     "output_type": "execute_result"
    }
   ],
   "source": [
    "w_optimal.shape"
   ]
  },
  {
   "cell_type": "markdown",
   "id": "e0671bb8",
   "metadata": {},
   "source": [
    "### Time to project"
   ]
  },
  {
   "cell_type": "code",
   "execution_count": 25,
   "id": "22dc21dd",
   "metadata": {},
   "outputs": [],
   "source": [
    "projected_X1 = w_optimal.T @ X1.T\n",
    "projected_X2 = w_optimal.T @ X2.T"
   ]
  },
  {
   "cell_type": "code",
   "execution_count": 26,
   "id": "7389dbac",
   "metadata": {},
   "outputs": [
    {
     "data": {
      "text/plain": [
       "array([[ 3.08300972, -0.54179157,  0.05343598, -0.81268735,  1.29732707]])"
      ]
     },
     "execution_count": 26,
     "metadata": {},
     "output_type": "execute_result"
    }
   ],
   "source": [
    "projected_X1"
   ]
  },
  {
   "cell_type": "code",
   "execution_count": 27,
   "id": "5fe50e1b",
   "metadata": {},
   "outputs": [
    {
     "data": {
      "text/plain": [
       "array([[2.32375835, 0.7555355 , 5.29989611, 3.18988169, 4.43377277]])"
      ]
     },
     "execution_count": 27,
     "metadata": {},
     "output_type": "execute_result"
    }
   ],
   "source": [
    "projected_X2"
   ]
  },
  {
   "cell_type": "markdown",
   "id": "157576d5",
   "metadata": {},
   "source": [
    "# Plot the old and new data"
   ]
  },
  {
   "cell_type": "code",
   "execution_count": 28,
   "id": "b700cc90",
   "metadata": {},
   "outputs": [
    {
     "data": {
      "text/plain": [
       "Text(0.5, 1.0, 'Old data')"
      ]
     },
     "execution_count": 28,
     "metadata": {},
     "output_type": "execute_result"
    },
    {
     "data": {
      "image/png": "[encoded data removed]",
      "text/plain": [
       "<Figure size 640x480 with 1 Axes>"
      ]
     },
     "metadata": {},
     "output_type": "display_data"
    }
   ],
   "source": [
    "\n",
    "plt.scatter(X1[:,0],X1[:,1], marker ='o')\n",
    "plt.scatter(X2[:,0], X2[:,1], marker = 's')\n",
    "plt.xlabel(\"x1\")\n",
    "plt.ylabel('x2')\n",
    "plt.title(\"Old data\")"
   ]
  },
  {
   "cell_type": "code",
   "execution_count": 29,
   "id": "76d2ea55",
   "metadata": {},
   "outputs": [
    {
     "data": {
      "text/plain": [
       "Text(0, 0.5, 'x2')"
      ]
     },
     "execution_count": 29,
     "metadata": {},
     "output_type": "execute_result"
    },
    {
     "data": {
      "image/png": "[encoded data removed]",
      "text/plain": [
       "<Figure size 640x480 with 1 Axes>"
      ]
     },
     "metadata": {},
     "output_type": "display_data"
    }
   ],
   "source": [
    "plt.scatter(projected_X1[0,:],[0,0,0,0,0], marker ='o')\n",
    "plt.scatter(projected_X2[0,:], [0,0,0,0,0], marker = 's')\n",
    "plt.xlabel(\"x1\")\n",
    "plt.ylabel('x2')"
   ]
  },
  {
   "cell_type": "markdown",
   "id": "c86d5074",
   "metadata": {},
   "source": [
    "# Write a module for LDA"
   ]
  },
  {
   "cell_type": "code",
   "execution_count": 30,
   "id": "f49a815d",
   "metadata": {},
   "outputs": [],
   "source": [
    "def LDA_binary(X1, X2, n_components=1):\n",
    "    #Find the mean and the interclass variance\n",
    "    u_1 = X1.mean(axis=0)\n",
    "    u_2 = X2.mean(axis=0)\n",
    "    \n",
    "    N1 = X1.shape[0]\n",
    "    N2 = X2.shape[0]\n",
    "\n",
    "    S1 = (X1-u_1).T @ (X1-u_1)/N1\n",
    "    S2 = (X2-u_2).T @ (X2-u_2)/N2\n",
    "    \n",
    "    S_w = S1 + S2\n",
    "    #print(u_1-u_2)\n",
    "    #S_b = (u_1 - u_2).reshape(2,-1) @ (u_1 - u_2).reshape(-1,2) \n",
    "    S_b = (u_1 - u_2).reshape(X1.shape[1],-1) @ (u_1 - u_2).reshape(-1,X1.shape[1])\n",
    "    #print(S_b)\n",
    "    prod = np.linalg.inv(S_w) @ S_b\n",
    "    \n",
    "    eig_val, eig_vec = np.linalg.eig(prod)\n",
    "    eig_vec.reshape(-1,1)\n",
    "\n",
    "    proj_X1 = eig_vec[:n_components] @ X1.T\n",
    "    proj_X2 = eig_vec[:n_components] @ X2.T\n",
    "    \n",
    "    return proj_X1, proj_X2"
   ]
  },
  {
   "cell_type": "code",
   "execution_count": null,
   "id": "02b8b294",
   "metadata": {},
   "outputs": [],
   "source": []
  },
  {
   "cell_type": "code",
   "execution_count": 31,
   "id": "b766f9cb",
   "metadata": {},
   "outputs": [],
   "source": [
    "P_X1, P_X2 = LDA_binary(X1, X2, 1)"
   ]
  },
  {
   "cell_type": "code",
   "execution_count": 32,
   "id": "81652567",
   "metadata": {},
   "outputs": [
    {
     "data": {
      "text/plain": [
       "Text(0, 0.5, 'x2')"
      ]
     },
     "execution_count": 32,
     "metadata": {},
     "output_type": "execute_result"
    },
    {
     "data": {
      "image/png": "[encoded data removed]",
      "text/plain": [
       "<Figure size 640x480 with 1 Axes>"
      ]
     },
     "metadata": {},
     "output_type": "display_data"
    }
   ],
   "source": [
    "plt.scatter(P_X1[0,:],[0,0,0,0,0], marker ='o')\n",
    "plt.scatter(P_X2[0,:], [0,0,0,0,0], marker = 's')\n",
    "plt.xlabel(\"x1\")\n",
    "plt.ylabel('x2')"
   ]
  },
  {
   "cell_type": "markdown",
   "id": "45b4be25",
   "metadata": {},
   "source": [
    "## Testing on real world data : Breast cancer dataset : https://scikit-learn.org/stable/modules/generated/sklearn.datasets.load_breast_cancer.html"
   ]
  },
  {
   "cell_type": "code",
   "execution_count": 33,
   "id": "59d5d67f",
   "metadata": {},
   "outputs": [],
   "source": [
    "from sklearn.datasets import load_breast_cancer as data"
   ]
  },
  {
   "cell_type": "code",
   "execution_count": 34,
   "id": "247168bb",
   "metadata": {},
   "outputs": [],
   "source": [
    "X, Y = data(return_X_y = True)"
   ]
  },
  {
   "cell_type": "code",
   "execution_count": 35,
   "id": "f6deba5b",
   "metadata": {},
   "outputs": [
    {
     "data": {
      "text/plain": [
       "(569, 30)"
      ]
     },
     "execution_count": 35,
     "metadata": {},
     "output_type": "execute_result"
    }
   ],
   "source": [
    "X.shape"
   ]
  },
  {
   "cell_type": "code",
   "execution_count": 36,
   "id": "5b7f47bb",
   "metadata": {},
   "outputs": [
    {
     "data": {
      "text/plain": [
       "(569,)"
      ]
     },
     "execution_count": 36,
     "metadata": {},
     "output_type": "execute_result"
    }
   ],
   "source": [
    "Y.shape"
   ]
  },
  {
   "cell_type": "code",
   "execution_count": 37,
   "id": "c7b69855",
   "metadata": {},
   "outputs": [
    {
     "data": {
      "text/plain": [
       "(212, 30)"
      ]
     },
     "execution_count": 37,
     "metadata": {},
     "output_type": "execute_result"
    }
   ],
   "source": [
    "X1 = X[Y==0]\n",
    "X1.shape"
   ]
  },
  {
   "cell_type": "code",
   "execution_count": 38,
   "id": "c95b354a",
   "metadata": {},
   "outputs": [
    {
     "data": {
      "text/plain": [
       "(357, 30)"
      ]
     },
     "execution_count": 38,
     "metadata": {},
     "output_type": "execute_result"
    }
   ],
   "source": [
    "X2 = X[Y==1]\n",
    "X2.shape"
   ]
  },
  {
   "cell_type": "code",
   "execution_count": 39,
   "id": "19938353",
   "metadata": {},
   "outputs": [],
   "source": [
    "P_X1, P_X2 = LDA_binary(X1, X2, 1)"
   ]
  },
  {
   "cell_type": "code",
   "execution_count": 40,
   "id": "c673875a",
   "metadata": {},
   "outputs": [
    {
     "data": {
      "text/plain": [
       "(1, 212)"
      ]
     },
     "execution_count": 40,
     "metadata": {},
     "output_type": "execute_result"
    }
   ],
   "source": [
    "P_X1.shape"
   ]
  },
  {
   "cell_type": "code",
   "execution_count": 41,
   "id": "fc907e4e",
   "metadata": {},
   "outputs": [
    {
     "data": {
      "text/plain": [
       "(1, 357)"
      ]
     },
     "execution_count": 41,
     "metadata": {},
     "output_type": "execute_result"
    }
   ],
   "source": [
    "P_X2.shape"
   ]
  },
  {
   "cell_type": "markdown",
   "id": "3e46cf50",
   "metadata": {},
   "source": [
    "## Plotting the new data"
   ]
  },
  {
   "cell_type": "code",
   "execution_count": 42,
   "id": "a4e7bfdb",
   "metadata": {},
   "outputs": [
    {
     "name": "stderr",
     "output_type": "stream",
     "text": [
      "/Library/Frameworks/Python.framework/Versions/3.10/lib/python3.10/site-packages/matplotlib/collections.py:193: ComplexWarning: Casting complex values to real discards the imaginary part\n",
      "  offsets = np.asanyarray(offsets, float)\n"
     ]
    },
    {
     "data": {
      "text/plain": [
       "Text(0, 0.5, 'x2')"
      ]
     },
     "execution_count": 42,
     "metadata": {},
     "output_type": "execute_result"
    },
    {
     "data": {
      "image/png": "[encoded data removed]",
      "text/plain": [
       "<Figure size 640x480 with 1 Axes>"
      ]
     },
     "metadata": {},
     "output_type": "display_data"
    }
   ],
   "source": [
    "plt.scatter(P_X1[0,:], [0] * P_X1.shape[1], marker='o')#P_X1[1:], marker ='o')\n",
    "plt.scatter(P_X2[0,:], [0] * P_X2.shape[1], marker='s')#P_X2[1:], marker = 's')\n",
    "plt.xlabel(\"x1\")\n",
    "plt.ylabel('x2')"
   ]
  },
  {
   "cell_type": "markdown",
   "id": "8cada4da",
   "metadata": {},
   "source": [
    "## Verifying LDA results"
   ]
  },
  {
   "cell_type": "code",
   "execution_count": 43,
   "id": "09d18887",
   "metadata": {},
   "outputs": [],
   "source": [
    "from sklearn.discriminant_analysis import LinearDiscriminantAnalysis as LDA"
   ]
  },
  {
   "cell_type": "code",
   "execution_count": 44,
   "id": "2d1f6830",
   "metadata": {},
   "outputs": [],
   "source": [
    "solver = LDA(n_components=1)"
   ]
  },
  {
   "cell_type": "code",
   "execution_count": 45,
   "id": "b7142dbb",
   "metadata": {},
   "outputs": [],
   "source": [
    "FS = solver.fit(X,Y).transform(X)"
   ]
  },
  {
   "cell_type": "code",
   "execution_count": 46,
   "id": "d157eeeb",
   "metadata": {},
   "outputs": [
    {
     "data": {
      "text/plain": [
       "(569, 1)"
      ]
     },
     "execution_count": 46,
     "metadata": {},
     "output_type": "execute_result"
    }
   ],
   "source": [
    "FS.shape"
   ]
  },
  {
   "cell_type": "code",
   "execution_count": 47,
   "id": "a09ae867",
   "metadata": {},
   "outputs": [],
   "source": [
    "P_X1 = FS[Y == 0]\n",
    "P_X2 = FS[Y == 1]"
   ]
  },
  {
   "cell_type": "code",
   "execution_count": 48,
   "id": "07dd6055",
   "metadata": {},
   "outputs": [
    {
     "data": {
      "text/plain": [
       "Text(0, 0.5, 'x2')"
      ]
     },
     "execution_count": 48,
     "metadata": {},
     "output_type": "execute_result"
    },
    {
     "data": {
      "image/png": "[encoded data removed]",
      "text/plain": [
       "<Figure size 640x480 with 1 Axes>"
      ]
     },
     "metadata": {},
     "output_type": "display_data"
    }
   ],
   "source": [
    "plt.scatter(P_X1[:,0], [0] * P_X1.shape[0], marker='o')#P_X1[1:], marker ='o')\n",
    "plt.scatter(P_X2[:,0], [0] * P_X2.shape[0], marker='s')#P_X2[1:], marker = 's')\n",
    "plt.xlabel(\"x1\")\n",
    "plt.ylabel('x2')"
   ]
  },
  {
   "cell_type": "markdown",
   "id": "2d24d491",
   "metadata": {},
   "source": [
    "## Almost similar, but due to the multi class LDA implementation, and the solver being SVD in the sklearn's LDA implementation,we got slightly shifted projected distribution"
   ]
  },
  {
   "cell_type": "markdown",
   "id": "804eda5d",
   "metadata": {},
   "source": [
    "## IRIS DATASET"
   ]
  },
  {
   "cell_type": "code",
   "execution_count": 49,
   "id": "3f82cf73",
   "metadata": {},
   "outputs": [],
   "source": [
    "from sklearn import datasets"
   ]
  },
  {
   "cell_type": "code",
   "execution_count": 50,
   "id": "18fe730a",
   "metadata": {},
   "outputs": [],
   "source": [
    "iris = datasets.load_iris()\n",
    "X = iris.data\n",
    "Y = iris.target"
   ]
  },
  {
   "cell_type": "code",
   "execution_count": 51,
   "id": "037dfadb",
   "metadata": {},
   "outputs": [
    {
     "data": {
      "text/plain": [
       "((150, 4), (150,))"
      ]
     },
     "execution_count": 51,
     "metadata": {},
     "output_type": "execute_result"
    }
   ],
   "source": [
    "X.shape, Y.shape"
   ]
  },
  {
   "cell_type": "code",
   "execution_count": 52,
   "id": "fc310d3b",
   "metadata": {},
   "outputs": [
    {
     "data": {
      "text/plain": [
       "array([0, 1, 2])"
      ]
     },
     "execution_count": 52,
     "metadata": {},
     "output_type": "execute_result"
    }
   ],
   "source": [
    "np.unique(Y)\n"
   ]
  },
  {
   "cell_type": "code",
   "execution_count": 65,
   "id": "509e2a9f",
   "metadata": {},
   "outputs": [],
   "source": [
    "X1 = X[Y == 0]\n",
    "X2 = X[Y == 2]\n",
    "#X3 = X[Y == 2]"
   ]
  },
  {
   "cell_type": "code",
   "execution_count": 66,
   "id": "ad8ed3ba",
   "metadata": {},
   "outputs": [],
   "source": [
    "P_X1, P_X2 = LDA_binary(X1, X2, 2)"
   ]
  },
  {
   "cell_type": "code",
   "execution_count": 67,
   "id": "3f8554ea",
   "metadata": {},
   "outputs": [
    {
     "data": {
      "text/plain": [
       "Text(0, 0.5, 'x2')"
      ]
     },
     "execution_count": 67,
     "metadata": {},
     "output_type": "execute_result"
    },
    {
     "data": {
      "image/png": "[encoded data removed]",
      "text/plain": [
       "<Figure size 640x480 with 1 Axes>"
      ]
     },
     "metadata": {},
     "output_type": "display_data"
    }
   ],
   "source": [
    "plt.scatter(P_X1[0,:], P_X1[1,:], marker='o')#P_X1[1:], marker ='o')\n",
    "plt.scatter(P_X2[0,:], P_X2[1,:], marker='s')#P_X2[1:], marker = 's')\n",
    "plt.xlabel(\"x1\")\n",
    "plt.ylabel('x2')"
   ]
  },
  {
   "cell_type": "code",
   "execution_count": null,
   "id": "47ebd75c",
   "metadata": {},
   "outputs": [],
   "source": []
  }
 ],
 "metadata": {
  "kernelspec": {
   "display_name": "Python 3 (ipykernel)",
   "language": "python",
   "name": "python3"
  },
  "language_info": {
   "codemirror_mode": {
    "name": "ipython",
    "version": 3
   },
   "file_extension": ".py",
   "mimetype": "text/x-python",
   "name": "python",
   "nbconvert_exporter": "python",
   "pygments_lexer": "ipython3",
   "version": "3.10.7"
  }
 },
 "nbformat": 4,
 "nbformat_minor": 5
}
