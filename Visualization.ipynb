{
 "cells": [
  {
   "cell_type": "code",
   "execution_count": 7,
   "id": "fd94bf18",
   "metadata": {},
   "outputs": [],
   "source": [
    "import matplotlib.pyplot as plt\n",
    "import numpy as np"
   ]
  },
  {
   "cell_type": "markdown",
   "id": "456b1b28",
   "metadata": {},
   "source": [
    "## Visualizing the decision boundary"
   ]
  },
  {
   "cell_type": "markdown",
   "id": "a8e1944c",
   "metadata": {},
   "source": [
    "## Creating a dummy dataset"
   ]
  },
  {
   "cell_type": "code",
   "execution_count": 20,
   "id": "f4f62230",
   "metadata": {},
   "outputs": [],
   "source": [
    "data = np.array(\n",
    "\n",
    "    [[1,2],\n",
    "     [1,1.4],\n",
    "     [1.2,1.6],\n",
    "     [2,1],\n",
    "     [2,2],\n",
    "    [2,3],\n",
    "    [4,5],\n",
    "    [6,7],\n",
    "    [8,9],\n",
    "    [6,5],\n",
    "    [4,7],\n",
    "    [8,9]]\n",
    "\n",
    ")"
   ]
  },
  {
   "cell_type": "code",
   "execution_count": 21,
   "id": "5646eb4f",
   "metadata": {},
   "outputs": [
    {
     "data": {
      "text/plain": [
       "<matplotlib.collections.PathCollection at 0x128da5ff0>"
      ]
     },
     "execution_count": 21,
     "metadata": {},
     "output_type": "execute_result"
    },
    {
     "data": {
      "image/png": "[encoded data removed]",
      "text/plain": [
       "<Figure size 640x480 with 1 Axes>"
      ]
     },
     "metadata": {},
     "output_type": "display_data"
    }
   ],
   "source": [
    "plt.scatter(data[:,0], data[:,1])"
   ]
  },
  {
   "cell_type": "code",
   "execution_count": 173,
   "id": "bfbe333a",
   "metadata": {},
   "outputs": [],
   "source": [
    "def line(x):\n",
    "    x = np.insert(x,2, 1, axis = 1)\n",
    "    print(\"X SHAPE\", x.shape)\n",
    "    w = np.array([[1,\n",
    "        1,\n",
    "        -6\n",
    "        ]])\n",
    "    print(w.shape)\n",
    "    prod = x @ w.T\n",
    "    prod[prod>0] = 1\n",
    "    prod[prod<=0] = 0\n",
    "    return prod\n",
    "\n",
    "min1 = 0\n",
    "min2 = 0\n",
    "max1 = 10\n",
    "max2 = 10\n",
    "x_grid = np.arange(min1, max1, 0.01)\n",
    "y_grid = np.arange(min2, max2, 0.01)\n",
    "xx, yy = np.meshgrid(x_grid, y_grid)\n",
    "\n",
    "r1, r2 = xx.flatten(), yy.flatten()\n",
    "r1, r2 = r1.reshape(len(r1), 1), r2.reshape(len(r2), 1)\n",
    "grid = np.hstack((r1, r2))"
   ]
  },
  {
   "cell_type": "code",
   "execution_count": 174,
   "id": "06d1a644",
   "metadata": {},
   "outputs": [
    {
     "data": {
      "text/plain": [
       "(1000000, 2)"
      ]
     },
     "execution_count": 174,
     "metadata": {},
     "output_type": "execute_result"
    }
   ],
   "source": [
    "grid.shape"
   ]
  },
  {
   "cell_type": "code",
   "execution_count": 175,
   "id": "32d42497",
   "metadata": {},
   "outputs": [
    {
     "name": "stdout",
     "output_type": "stream",
     "text": [
      "X SHAPE (1000000, 3)\n",
      "(1, 3)\n"
     ]
    }
   ],
   "source": [
    "output = line(grid)\n",
    "zz = output.reshape(xx.shape)"
   ]
  },
  {
   "cell_type": "code",
   "execution_count": 176,
   "id": "691dab65",
   "metadata": {},
   "outputs": [
    {
     "name": "stdout",
     "output_type": "stream",
     "text": [
      "X SHAPE (12, 3)\n",
      "(1, 3)\n"
     ]
    }
   ],
   "source": [
    "y = line(data)"
   ]
  },
  {
   "cell_type": "code",
   "execution_count": 177,
   "id": "24e1cf07",
   "metadata": {},
   "outputs": [
    {
     "data": {
      "text/plain": [
       "(array([[1. , 2. ],\n",
       "        [1. , 1.4],\n",
       "        [1.2, 1.6],\n",
       "        [2. , 1. ],\n",
       "        [2. , 2. ],\n",
       "        [2. , 3. ],\n",
       "        [4. , 5. ],\n",
       "        [6. , 7. ],\n",
       "        [8. , 9. ],\n",
       "        [6. , 5. ],\n",
       "        [4. , 7. ],\n",
       "        [8. , 9. ]]),\n",
       " array([[0.],\n",
       "        [0.],\n",
       "        [0.],\n",
       "        [0.],\n",
       "        [0.],\n",
       "        [0.],\n",
       "        [1.],\n",
       "        [1.],\n",
       "        [1.],\n",
       "        [1.],\n",
       "        [1.],\n",
       "        [1.]]))"
      ]
     },
     "execution_count": 177,
     "metadata": {},
     "output_type": "execute_result"
    }
   ],
   "source": [
    "data, y"
   ]
  },
  {
   "cell_type": "code",
   "execution_count": 178,
   "id": "ed3ab16e",
   "metadata": {},
   "outputs": [
    {
     "name": "stderr",
     "output_type": "stream",
     "text": [
      "/var/folders/6v/9gb458t90k7dvc1hvl02dr4w0000gn/T/ipykernel_3723/1720886712.py:7: UserWarning: No data for colormapping provided via 'c'. Parameters 'cmap' will be ignored\n",
      "  plt.scatter(data[row_ix[0], 0], data[row_ix[0], 1], cmap='Paired')\n"
     ]
    },
    {
     "data": {
      "image/png": "[encoded data removed]",
      "text/plain": [
       "<Figure size 640x480 with 1 Axes>"
      ]
     },
     "metadata": {},
     "output_type": "display_data"
    }
   ],
   "source": [
    "plt.contourf(xx, yy, zz)\n",
    "for class_value in range(2):\n",
    "    # get row indexes for samples with this class\n",
    "    row_ix = np.where(y == class_value)\n",
    "    \n",
    "    # create scatter of these samples\n",
    "    plt.scatter(data[row_ix[0], 0], data[row_ix[0], 1], cmap='Paired')"
   ]
  },
  {
   "cell_type": "code",
   "execution_count": 179,
   "id": "edb69763",
   "metadata": {},
   "outputs": [
    {
     "data": {
      "text/plain": [
       "(array([0, 1, 2, 3, 4, 5]), array([0, 0, 0, 0, 0, 0]))"
      ]
     },
     "execution_count": 179,
     "metadata": {},
     "output_type": "execute_result"
    }
   ],
   "source": [
    "row_ix = np.where(y==0)\n",
    "row_ix"
   ]
  },
  {
   "cell_type": "code",
   "execution_count": 99,
   "id": "9956fbfc",
   "metadata": {},
   "outputs": [
    {
     "data": {
      "text/plain": [
       "(10000, 1)"
      ]
     },
     "execution_count": 99,
     "metadata": {},
     "output_type": "execute_result"
    }
   ],
   "source": [
    "output.shape"
   ]
  },
  {
   "cell_type": "code",
   "execution_count": null,
   "id": "09988c57",
   "metadata": {},
   "outputs": [],
   "source": []
  },
  {
   "cell_type": "code",
   "execution_count": null,
   "id": "72d1f771",
   "metadata": {},
   "outputs": [],
   "source": []
  },
  {
   "cell_type": "code",
   "execution_count": 77,
   "id": "cb517418",
   "metadata": {},
   "outputs": [
    {
     "data": {
      "text/plain": [
       "array([[0. , 0. , 1. ],\n",
       "       [0.1, 0. , 1. ],\n",
       "       [0.2, 0. , 1. ],\n",
       "       ...,\n",
       "       [9.7, 9.9, 1. ],\n",
       "       [9.8, 9.9, 1. ],\n",
       "       [9.9, 9.9, 1. ]])"
      ]
     },
     "execution_count": 77,
     "metadata": {},
     "output_type": "execute_result"
    }
   ],
   "source": [
    "\n"
   ]
  },
  {
   "cell_type": "code",
   "execution_count": null,
   "id": "141ee7d1",
   "metadata": {},
   "outputs": [],
   "source": []
  }
 ],
 "metadata": {
  "kernelspec": {
   "display_name": "Python 3 (ipykernel)",
   "language": "python",
   "name": "python3"
  },
  "language_info": {
   "codemirror_mode": {
    "name": "ipython",
    "version": 3
   },
   "file_extension": ".py",
   "mimetype": "text/x-python",
   "name": "python",
   "nbconvert_exporter": "python",
   "pygments_lexer": "ipython3",
   "version": "3.10.7"
  }
 },
 "nbformat": 4,
 "nbformat_minor": 5
}
